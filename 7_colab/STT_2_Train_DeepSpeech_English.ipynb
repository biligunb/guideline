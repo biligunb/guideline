{
  "nbformat": 4,
  "nbformat_minor": 0,
  "metadata": {
    "colab": {
      "name": "STT #2 : Train DeepSpeech - English.ipynb",
      "provenance": [],
      "collapsed_sections": []
    },
    "kernelspec": {
      "name": "python3",
      "display_name": "Python 3"
    },
    "accelerator": "GPU"
  },
  "cells": [
    {
      "cell_type": "code",
      "metadata": {
        "id": "iTJF1C0j5A9V",
        "colab_type": "code",
        "colab": {}
      },
      "source": [
        "!curl -s https://packagecloud.io/install/repositories/github/git-lfs/script.deb.sh | sudo bash\n",
        "!apt-get install git-lfs\n",
        "!git lfs install"
      ],
      "execution_count": 0,
      "outputs": []
    },
    {
      "cell_type": "code",
      "metadata": {
        "id": "flb2tXvn5INt",
        "colab_type": "code",
        "colab": {}
      },
      "source": [
        "!apt-get install sox\n",
        "!apt-get install libsox-fmt-mp3"
      ],
      "execution_count": 0,
      "outputs": []
    },
    {
      "cell_type": "code",
      "metadata": {
        "id": "xbN1IopF5KBI",
        "colab_type": "code",
        "colab": {}
      },
      "source": [
        "!pip3 install virtualenv"
      ],
      "execution_count": 0,
      "outputs": []
    },
    {
      "cell_type": "code",
      "metadata": {
        "id": "My6jjEy95NaL",
        "colab_type": "code",
        "colab": {}
      },
      "source": [
        "!virtualenv -p python3 $HOME/tmp/deepspeech-venv/ && source $HOME/tmp/deepspeech-venv/bin/activate"
      ],
      "execution_count": 0,
      "outputs": []
    },
    {
      "cell_type": "code",
      "metadata": {
        "id": "qaEzxqoc5QWQ",
        "colab_type": "code",
        "colab": {}
      },
      "source": [
        "!git lfs clone https://github.com/mozilla/deepspeech"
      ],
      "execution_count": 0,
      "outputs": []
    },
    {
      "cell_type": "code",
      "metadata": {
        "id": "SMzP_YdI5UHB",
        "colab_type": "code",
        "colab": {}
      },
      "source": [
        "!pip3 install -r deepspeech/requirements.txt\n",
        "!cd deepspeech && pip3 install $(python3 util/taskcluster.py --decoder)"
      ],
      "execution_count": 0,
      "outputs": []
    },
    {
      "cell_type": "code",
      "metadata": {
        "id": "xa-u7x6_5UwC",
        "colab_type": "code",
        "colab": {}
      },
      "source": [
        "!pip3 uninstall -y tensorflow\n",
        "!pip3 install 'tensorflow-gpu==1.14.0'"
      ],
      "execution_count": 0,
      "outputs": []
    },
    {
      "cell_type": "code",
      "metadata": {
        "id": "MimmI9R85Wfu",
        "colab_type": "code",
        "outputId": "c595d817-c34a-4e11-8b1b-02620cb18cd5",
        "colab": {
          "base_uri": "https://localhost:8080/",
          "height": 220
        }
      },
      "source": [
        "!wget https://voice-prod-bundler-ee1969a6ce8178826482b88e843c335139bd3fb4.s3.amazonaws.com/cv-corpus-3/en.tar.gz\n",
        "!tar -xf en.tar.gz"
      ],
      "execution_count": 0,
      "outputs": [
        {
          "output_type": "stream",
          "text": [
            "--2019-10-06 04:01:44--  https://voice-prod-bundler-ee1969a6ce8178826482b88e843c335139bd3fb4.s3.amazonaws.com/cv-corpus-3/en.tar.gz\n",
            "Resolving voice-prod-bundler-ee1969a6ce8178826482b88e843c335139bd3fb4.s3.amazonaws.com (voice-prod-bundler-ee1969a6ce8178826482b88e843c335139bd3fb4.s3.amazonaws.com)... 52.218.220.139\n",
            "Connecting to voice-prod-bundler-ee1969a6ce8178826482b88e843c335139bd3fb4.s3.amazonaws.com (voice-prod-bundler-ee1969a6ce8178826482b88e843c335139bd3fb4.s3.amazonaws.com)|52.218.220.139|:443... connected.\n",
            "HTTP request sent, awaiting response... 200 OK\n",
            "Length: 30159205077 (28G) [application/octet-stream]\n",
            "Saving to: ‘en.tar.gz’\n",
            "\n",
            "en.tar.gz           100%[===================>]  28.09G  40.6MB/s    in 12m 49s \n",
            "\n",
            "2019-10-06 04:14:33 (37.4 MB/s) - ‘en.tar.gz’ saved [30159205077/30159205077]\n",
            "\n"
          ],
          "name": "stdout"
        }
      ]
    },
    {
      "cell_type": "code",
      "metadata": {
        "id": "mJha52or6vIP",
        "colab_type": "code",
        "outputId": "0e2e3e32-ba21-4996-e916-09a29e7a7853",
        "colab": {
          "base_uri": "https://localhost:8080/",
          "height": 33
        }
      },
      "source": [
        "!deepspeech/bin/import_cv2.py ''"
      ],
      "execution_count": 0,
      "outputs": [
        {
          "output_type": "stream",
          "text": [
            "/bin/bash: deepspeech/bin/import_cv2.py: No such file or directory\n"
          ],
          "name": "stdout"
        }
      ]
    },
    {
      "cell_type": "markdown",
      "metadata": {
        "id": "bmmbSkYlU0iK",
        "colab_type": "text"
      },
      "source": [
        ""
      ]
    },
    {
      "cell_type": "code",
      "metadata": {
        "id": "PpIbI9Vc6-zq",
        "colab_type": "code",
        "colab": {}
      },
      "source": [
        "!./DeepSpeech.py \\\n",
        "--train_files 'train.csv' \\\n",
        "--dev_files 'dev.csv' \\\n",
        "--test_files 'test.csv' \\\n",
        "--epochs 1 \\\n",
        "--export_dir 'data/'"
      ],
      "execution_count": 0,
      "outputs": []
    }
  ]
}