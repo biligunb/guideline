{
  "nbformat": 4,
  "nbformat_minor": 0,
  "metadata": {
    "colab": {
      "name": "STT #3 - Create Language Model.ipynb",
      "provenance": [],
      "collapsed_sections": []
    },
    "kernelspec": {
      "name": "python3",
      "display_name": "Python 3"
    },
    "accelerator": "GPU"
  },
  "cells": [
    {
      "cell_type": "code",
      "metadata": {
        "id": "UKBs88Tl5-FS",
        "colab_type": "code",
        "outputId": "cbd749d3-1739-475b-881d-5194d4efe2e6",
        "colab": {
          "base_uri": "https://localhost:8080/",
          "height": 208
        }
      },
      "source": [
        "!wget -O - https://kheafield.com/code/kenlm.tar.gz |tar xz"
      ],
      "execution_count": 1,
      "outputs": [
        {
          "output_type": "stream",
          "text": [
            "--2019-10-22 08:13:29--  https://kheafield.com/code/kenlm.tar.gz\n",
            "Resolving kheafield.com (kheafield.com)... 35.196.63.85\n",
            "Connecting to kheafield.com (kheafield.com)|35.196.63.85|:443... connected.\n",
            "HTTP request sent, awaiting response... 200 OK\n",
            "Length: 489353 (478K) [application/x-gzip]\n",
            "Saving to: ‘STDOUT’\n",
            "\n",
            "-                   100%[===================>] 477.88K   496KB/s    in 1.0s    \n",
            "\n",
            "2019-10-22 08:13:36 (496 KB/s) - written to stdout [489353/489353]\n",
            "\n"
          ],
          "name": "stdout"
        }
      ]
    },
    {
      "cell_type": "code",
      "metadata": {
        "id": "R-9_c2Vr6PwU",
        "colab_type": "code",
        "outputId": "2c477d6e-b43c-4efb-d858-e4e72beb11af",
        "colab": {
          "base_uri": "https://localhost:8080/",
          "height": 34
        }
      },
      "source": [
        "!mkdir kenlm/build\n",
        "%cd kenlm/build"
      ],
      "execution_count": 2,
      "outputs": [
        {
          "output_type": "stream",
          "text": [
            "/content/kenlm/build\n"
          ],
          "name": "stdout"
        }
      ]
    },
    {
      "cell_type": "code",
      "metadata": {
        "id": "F7l-OWuG6lDK",
        "colab_type": "code",
        "outputId": "1eca6b80-eab9-4d06-d6a2-ae1b6cc5e334",
        "colab": {
          "base_uri": "https://localhost:8080/",
          "height": 990
        }
      },
      "source": [
        "!cmake .."
      ],
      "execution_count": 3,
      "outputs": [
        {
          "output_type": "stream",
          "text": [
            "-- The C compiler identification is GNU 7.4.0\n",
            "-- The CXX compiler identification is GNU 7.4.0\n",
            "-- Check for working C compiler: /usr/bin/cc\n",
            "-- Check for working C compiler: /usr/bin/cc -- works\n",
            "-- Detecting C compiler ABI info\n",
            "-- Detecting C compiler ABI info - done\n",
            "-- Detecting C compile features\n",
            "-- Detecting C compile features - done\n",
            "-- Check for working CXX compiler: /usr/bin/c++\n",
            "-- Check for working CXX compiler: /usr/bin/c++ -- works\n",
            "-- Detecting CXX compiler ABI info\n",
            "-- Detecting CXX compiler ABI info - done\n",
            "-- Detecting CXX compile features\n",
            "-- Detecting CXX compile features - done\n",
            "-- Looking for pthread.h\n",
            "-- Looking for pthread.h - found\n",
            "-- Looking for pthread_create\n",
            "-- Looking for pthread_create - not found\n",
            "-- Looking for pthread_create in pthreads\n",
            "-- Looking for pthread_create in pthreads - not found\n",
            "-- Looking for pthread_create in pthread\n",
            "-- Looking for pthread_create in pthread - found\n",
            "-- Found Threads: TRUE  \n",
            "-- Boost version: 1.65.1\n",
            "-- Found the following Boost libraries:\n",
            "--   program_options\n",
            "--   system\n",
            "--   thread\n",
            "--   unit_test_framework\n",
            "--   chrono\n",
            "--   date_time\n",
            "--   atomic\n",
            "-- Found ZLIB: /usr/lib/x86_64-linux-gnu/libz.so (found version \"1.2.11\") \n",
            "-- Found BZip2: /usr/lib/x86_64-linux-gnu/libbz2.so (found version \"1.0.6\") \n",
            "-- Looking for BZ2_bzCompressInit\n",
            "-- Looking for BZ2_bzCompressInit - found\n",
            "-- Looking for lzma_auto_decoder in /usr/lib/x86_64-linux-gnu/liblzma.so\n",
            "-- Looking for lzma_auto_decoder in /usr/lib/x86_64-linux-gnu/liblzma.so - found\n",
            "-- Looking for lzma_easy_encoder in /usr/lib/x86_64-linux-gnu/liblzma.so\n",
            "-- Looking for lzma_easy_encoder in /usr/lib/x86_64-linux-gnu/liblzma.so - found\n",
            "-- Looking for lzma_lzma_preset in /usr/lib/x86_64-linux-gnu/liblzma.so\n",
            "-- Looking for lzma_lzma_preset in /usr/lib/x86_64-linux-gnu/liblzma.so - found\n",
            "-- Found LibLZMA: /usr/include (found version \"5.2.2\") \n",
            "-- Could NOT find Eigen3 (missing: EIGEN3_INCLUDE_DIR EIGEN3_VERSION_OK) (Required is at least version \"2.91.0\")\n",
            "CMake Warning at lm/interpolate/CMakeLists.txt:65 (message):\n",
            "  Not building interpolation.  Eigen3 was not found.\n",
            "\n",
            "\n",
            "-- To install Eigen3 in your home directory, copy paste this:\n",
            "export EIGEN3_ROOT=$HOME/eigen-eigen-07105f7124f9\n",
            "(cd $HOME; wget -O - https://bitbucket.org/eigen/eigen/get/3.2.8.tar.bz2 |tar xj)\n",
            "rm CMakeCache.txt\n",
            "\n",
            "-- Configuring done\n",
            "-- Generating done\n",
            "-- Build files have been written to: /content/kenlm/build\n"
          ],
          "name": "stdout"
        }
      ]
    },
    {
      "cell_type": "code",
      "metadata": {
        "id": "lwdmHHga6l-z",
        "colab_type": "code",
        "outputId": "c0689783-eda3-437d-e0c7-de20073b9491",
        "colab": {
          "base_uri": "https://localhost:8080/",
          "height": 1000
        }
      },
      "source": [
        "!make -j2"
      ],
      "execution_count": 4,
      "outputs": [
        {
          "output_type": "stream",
          "text": [
            "\u001b[35m\u001b[1mScanning dependencies of target kenlm_filter\u001b[0m\n",
            "\u001b[35m\u001b[1mScanning dependencies of target kenlm_util\u001b[0m\n",
            "[  0%] \u001b[32mBuilding CXX object lm/filter/CMakeFiles/kenlm_filter.dir/arpa_io.cc.o\u001b[0m\n",
            "[  1%] \u001b[32mBuilding CXX object util/CMakeFiles/kenlm_util.dir/double-conversion/bignum-dtoa.cc.o\u001b[0m\n",
            "[  1%] \u001b[32mBuilding CXX object util/CMakeFiles/kenlm_util.dir/double-conversion/bignum.cc.o\u001b[0m\n",
            "[  2%] \u001b[32mBuilding CXX object lm/filter/CMakeFiles/kenlm_filter.dir/phrase.cc.o\u001b[0m\n",
            "[  3%] \u001b[32mBuilding CXX object util/CMakeFiles/kenlm_util.dir/double-conversion/cached-powers.cc.o\u001b[0m\n",
            "[  4%] \u001b[32mBuilding CXX object util/CMakeFiles/kenlm_util.dir/double-conversion/diy-fp.cc.o\u001b[0m\n",
            "[  5%] \u001b[32mBuilding CXX object util/CMakeFiles/kenlm_util.dir/double-conversion/double-conversion.cc.o\u001b[0m\n",
            "[  6%] \u001b[32mBuilding CXX object util/CMakeFiles/kenlm_util.dir/double-conversion/fast-dtoa.cc.o\u001b[0m\n",
            "[  7%] \u001b[32mBuilding CXX object util/CMakeFiles/kenlm_util.dir/double-conversion/fixed-dtoa.cc.o\u001b[0m\n",
            "[  7%] \u001b[32mBuilding CXX object util/CMakeFiles/kenlm_util.dir/double-conversion/strtod.cc.o\u001b[0m\n",
            "[  8%] \u001b[32mBuilding CXX object util/CMakeFiles/kenlm_util.dir/stream/chain.cc.o\u001b[0m\n",
            "[  9%] \u001b[32mBuilding CXX object lm/filter/CMakeFiles/kenlm_filter.dir/vocab.cc.o\u001b[0m\n",
            "[ 10%] \u001b[32m\u001b[1mLinking CXX static library ../../lib/libkenlm_filter.a\u001b[0m\n",
            "[ 10%] Built target kenlm_filter\n",
            "[ 11%] \u001b[32mBuilding CXX object util/CMakeFiles/kenlm_util.dir/stream/count_records.cc.o\u001b[0m\n",
            "[ 12%] \u001b[32mBuilding CXX object util/CMakeFiles/kenlm_util.dir/stream/io.cc.o\u001b[0m\n",
            "[ 13%] \u001b[32mBuilding CXX object util/CMakeFiles/kenlm_util.dir/stream/line_input.cc.o\u001b[0m\n",
            "[ 13%] \u001b[32mBuilding CXX object util/CMakeFiles/kenlm_util.dir/stream/multi_progress.cc.o\u001b[0m\n",
            "[ 14%] \u001b[32mBuilding CXX object util/CMakeFiles/kenlm_util.dir/stream/rewindable_stream.cc.o\u001b[0m\n",
            "[ 15%] \u001b[32mBuilding CXX object util/CMakeFiles/kenlm_util.dir/bit_packing.cc.o\u001b[0m\n",
            "[ 16%] \u001b[32mBuilding CXX object util/CMakeFiles/kenlm_util.dir/ersatz_progress.cc.o\u001b[0m\n",
            "[ 17%] \u001b[32mBuilding CXX object util/CMakeFiles/kenlm_util.dir/exception.cc.o\u001b[0m\n",
            "[ 17%] \u001b[32mBuilding CXX object util/CMakeFiles/kenlm_util.dir/file.cc.o\u001b[0m\n",
            "[ 18%] \u001b[32mBuilding CXX object util/CMakeFiles/kenlm_util.dir/file_piece.cc.o\u001b[0m\n",
            "[ 19%] \u001b[32mBuilding CXX object util/CMakeFiles/kenlm_util.dir/float_to_string.cc.o\u001b[0m\n",
            "[ 20%] \u001b[32mBuilding CXX object util/CMakeFiles/kenlm_util.dir/integer_to_string.cc.o\u001b[0m\n",
            "[ 21%] \u001b[32mBuilding CXX object util/CMakeFiles/kenlm_util.dir/mmap.cc.o\u001b[0m\n",
            "[ 21%] \u001b[32mBuilding CXX object util/CMakeFiles/kenlm_util.dir/murmur_hash.cc.o\u001b[0m\n",
            "[ 22%] \u001b[32mBuilding CXX object util/CMakeFiles/kenlm_util.dir/parallel_read.cc.o\u001b[0m\n",
            "[ 23%] \u001b[32mBuilding CXX object util/CMakeFiles/kenlm_util.dir/pool.cc.o\u001b[0m\n",
            "[ 24%] \u001b[32mBuilding CXX object util/CMakeFiles/kenlm_util.dir/read_compressed.cc.o\u001b[0m\n",
            "[ 25%] \u001b[32mBuilding CXX object util/CMakeFiles/kenlm_util.dir/scoped.cc.o\u001b[0m\n",
            "[ 25%] \u001b[32mBuilding CXX object util/CMakeFiles/kenlm_util.dir/spaces.cc.o\u001b[0m\n",
            "[ 26%] \u001b[32mBuilding CXX object util/CMakeFiles/kenlm_util.dir/string_piece.cc.o\u001b[0m\n",
            "[ 27%] \u001b[32mBuilding CXX object util/CMakeFiles/kenlm_util.dir/usage.cc.o\u001b[0m\n",
            "[ 28%] \u001b[32m\u001b[1mLinking CXX static library ../lib/libkenlm_util.a\u001b[0m\n",
            "[ 28%] Built target kenlm_util\n",
            "\u001b[35m\u001b[1mScanning dependencies of target string_stream_test\u001b[0m\n",
            "\u001b[35m\u001b[1mScanning dependencies of target joint_sort_test\u001b[0m\n",
            "[ 28%] \u001b[32mBuilding CXX object util/CMakeFiles/joint_sort_test.dir/joint_sort_test.cc.o\u001b[0m\n",
            "[ 29%] \u001b[32mBuilding CXX object util/CMakeFiles/string_stream_test.dir/string_stream_test.cc.o\u001b[0m\n",
            "[ 30%] \u001b[32m\u001b[1mLinking CXX executable ../tests/joint_sort_test\u001b[0m\n",
            "[ 30%] Built target joint_sort_test\n",
            "\u001b[35m\u001b[1mScanning dependencies of target read_compressed_test\u001b[0m\n",
            "[ 30%] \u001b[32mBuilding CXX object util/CMakeFiles/read_compressed_test.dir/read_compressed_test.cc.o\u001b[0m\n",
            "[ 31%] \u001b[32m\u001b[1mLinking CXX executable ../tests/string_stream_test\u001b[0m\n",
            "[ 31%] Built target string_stream_test\n",
            "\u001b[35m\u001b[1mScanning dependencies of target probing_hash_table_benchmark\u001b[0m\n",
            "[ 32%] \u001b[32mBuilding CXX object util/CMakeFiles/probing_hash_table_benchmark.dir/probing_hash_table_benchmark_main.cc.o\u001b[0m\n",
            "[ 33%] \u001b[32m\u001b[1mLinking CXX executable ../tests/read_compressed_test\u001b[0m\n",
            "[ 33%] Built target read_compressed_test\n",
            "\u001b[35m\u001b[1mScanning dependencies of target bit_packing_test\u001b[0m\n",
            "[ 34%] \u001b[32mBuilding CXX object util/CMakeFiles/bit_packing_test.dir/bit_packing_test.cc.o\u001b[0m\n",
            "[ 34%] \u001b[32m\u001b[1mLinking CXX executable ../bin/probing_hash_table_benchmark\u001b[0m\n",
            "[ 34%] Built target probing_hash_table_benchmark\n",
            "\u001b[35m\u001b[1mScanning dependencies of target tokenize_piece_test\u001b[0m\n",
            "[ 35%] \u001b[32mBuilding CXX object util/CMakeFiles/tokenize_piece_test.dir/tokenize_piece_test.cc.o\u001b[0m\n",
            "[ 36%] \u001b[32m\u001b[1mLinking CXX executable ../tests/bit_packing_test\u001b[0m\n",
            "[ 36%] Built target bit_packing_test\n",
            "\u001b[35m\u001b[1mScanning dependencies of target sorted_uniform_test\u001b[0m\n",
            "[ 37%] \u001b[32mBuilding CXX object util/CMakeFiles/sorted_uniform_test.dir/sorted_uniform_test.cc.o\u001b[0m\n",
            "[ 38%] \u001b[32m\u001b[1mLinking CXX executable ../tests/tokenize_piece_test\u001b[0m\n",
            "[ 38%] Built target tokenize_piece_test\n",
            "\u001b[35m\u001b[1mScanning dependencies of target integer_to_string_test\u001b[0m\n",
            "[ 39%] \u001b[32mBuilding CXX object util/CMakeFiles/integer_to_string_test.dir/integer_to_string_test.cc.o\u001b[0m\n",
            "[ 40%] \u001b[32m\u001b[1mLinking CXX executable ../tests/sorted_uniform_test\u001b[0m\n",
            "[ 40%] Built target sorted_uniform_test\n",
            "\u001b[35m\u001b[1mScanning dependencies of target file_piece_test\u001b[0m\n",
            "[ 40%] \u001b[32mBuilding CXX object util/CMakeFiles/file_piece_test.dir/file_piece_test.cc.o\u001b[0m\n",
            "[ 41%] \u001b[32m\u001b[1mLinking CXX executable ../tests/integer_to_string_test\u001b[0m\n",
            "[ 41%] Built target integer_to_string_test\n",
            "\u001b[35m\u001b[1mScanning dependencies of target pcqueue_test\u001b[0m\n",
            "[ 41%] \u001b[32mBuilding CXX object util/CMakeFiles/pcqueue_test.dir/pcqueue_test.cc.o\u001b[0m\n",
            "[ 42%] \u001b[32m\u001b[1mLinking CXX executable ../tests/file_piece_test\u001b[0m\n",
            "[ 42%] Built target file_piece_test\n",
            "\u001b[35m\u001b[1mScanning dependencies of target multi_intersection_test\u001b[0m\n",
            "[ 43%] \u001b[32mBuilding CXX object util/CMakeFiles/multi_intersection_test.dir/multi_intersection_test.cc.o\u001b[0m\n",
            "[ 44%] \u001b[32m\u001b[1mLinking CXX executable ../tests/pcqueue_test\u001b[0m\n",
            "[ 44%] Built target pcqueue_test\n",
            "\u001b[35m\u001b[1mScanning dependencies of target probing_hash_table_test\u001b[0m\n",
            "[ 45%] \u001b[32mBuilding CXX object util/CMakeFiles/probing_hash_table_test.dir/probing_hash_table_test.cc.o\u001b[0m\n",
            "[ 46%] \u001b[32m\u001b[1mLinking CXX executable ../tests/multi_intersection_test\u001b[0m\n",
            "[ 46%] Built target multi_intersection_test\n",
            "\u001b[35m\u001b[1mScanning dependencies of target sized_iterator_test\u001b[0m\n",
            "[ 47%] \u001b[32mBuilding CXX object util/CMakeFiles/sized_iterator_test.dir/sized_iterator_test.cc.o\u001b[0m\n",
            "[ 48%] \u001b[32m\u001b[1mLinking CXX executable ../tests/probing_hash_table_test\u001b[0m\n",
            "[ 48%] Built target probing_hash_table_test\n",
            "\u001b[35m\u001b[1mScanning dependencies of target io_test\u001b[0m\n",
            "[ 49%] \u001b[32mBuilding CXX object util/stream/CMakeFiles/io_test.dir/io_test.cc.o\u001b[0m\n",
            "[ 49%] \u001b[32m\u001b[1mLinking CXX executable ../tests/sized_iterator_test\u001b[0m\n",
            "[ 49%] Built target sized_iterator_test\n",
            "\u001b[35m\u001b[1mScanning dependencies of target stream_test\u001b[0m\n",
            "[ 49%] \u001b[32mBuilding CXX object util/stream/CMakeFiles/stream_test.dir/stream_test.cc.o\u001b[0m\n",
            "[ 50%] \u001b[32m\u001b[1mLinking CXX executable ../../tests/io_test\u001b[0m\n",
            "[ 50%] Built target io_test\n",
            "\u001b[35m\u001b[1mScanning dependencies of target rewindable_stream_test\u001b[0m\n",
            "[ 51%] \u001b[32mBuilding CXX object util/stream/CMakeFiles/rewindable_stream_test.dir/rewindable_stream_test.cc.o\u001b[0m\n",
            "[ 52%] \u001b[32m\u001b[1mLinking CXX executable ../../tests/stream_test\u001b[0m\n",
            "[ 52%] Built target stream_test\n",
            "\u001b[35m\u001b[1mScanning dependencies of target sort_test\u001b[0m\n",
            "[ 53%] \u001b[32mBuilding CXX object util/stream/CMakeFiles/sort_test.dir/sort_test.cc.o\u001b[0m\n",
            "[ 54%] \u001b[32m\u001b[1mLinking CXX executable ../../tests/rewindable_stream_test\u001b[0m\n",
            "[ 54%] Built target rewindable_stream_test\n",
            "\u001b[35m\u001b[1mScanning dependencies of target kenlm\u001b[0m\n",
            "[ 55%] \u001b[32mBuilding CXX object lm/CMakeFiles/kenlm.dir/bhiksha.cc.o\u001b[0m\n",
            "[ 56%] \u001b[32mBuilding CXX object lm/CMakeFiles/kenlm.dir/binary_format.cc.o\u001b[0m\n",
            "[ 57%] \u001b[32mBuilding CXX object lm/CMakeFiles/kenlm.dir/config.cc.o\u001b[0m\n",
            "[ 57%] \u001b[32mBuilding CXX object lm/CMakeFiles/kenlm.dir/lm_exception.cc.o\u001b[0m\n",
            "[ 58%] \u001b[32mBuilding CXX object lm/CMakeFiles/kenlm.dir/model.cc.o\u001b[0m\n",
            "[ 59%] \u001b[32m\u001b[1mLinking CXX executable ../../tests/sort_test\u001b[0m\n",
            "[ 59%] Built target sort_test\n",
            "[ 60%] \u001b[32mBuilding CXX object lm/CMakeFiles/kenlm.dir/quantize.cc.o\u001b[0m\n",
            "[ 61%] \u001b[32mBuilding CXX object lm/CMakeFiles/kenlm.dir/read_arpa.cc.o\u001b[0m\n",
            "[ 62%] \u001b[32mBuilding CXX object lm/CMakeFiles/kenlm.dir/search_hashed.cc.o\u001b[0m\n",
            "[ 63%] \u001b[32mBuilding CXX object lm/CMakeFiles/kenlm.dir/search_trie.cc.o\u001b[0m\n",
            "[ 63%] \u001b[32mBuilding CXX object lm/CMakeFiles/kenlm.dir/sizes.cc.o\u001b[0m\n",
            "[ 64%] \u001b[32mBuilding CXX object lm/CMakeFiles/kenlm.dir/trie.cc.o\u001b[0m\n",
            "[ 65%] \u001b[32mBuilding CXX object lm/CMakeFiles/kenlm.dir/trie_sort.cc.o\u001b[0m\n",
            "[ 66%] \u001b[32mBuilding CXX object lm/CMakeFiles/kenlm.dir/value_build.cc.o\u001b[0m\n",
            "[ 67%] \u001b[32mBuilding CXX object lm/CMakeFiles/kenlm.dir/virtual_interface.cc.o\u001b[0m\n",
            "[ 67%] \u001b[32mBuilding CXX object lm/CMakeFiles/kenlm.dir/vocab.cc.o\u001b[0m\n",
            "[ 68%] \u001b[32mBuilding CXX object lm/CMakeFiles/kenlm.dir/common/model_buffer.cc.o\u001b[0m\n",
            "[ 69%] \u001b[32mBuilding CXX object lm/CMakeFiles/kenlm.dir/common/print.cc.o\u001b[0m\n",
            "[ 70%] \u001b[32mBuilding CXX object lm/CMakeFiles/kenlm.dir/common/renumber.cc.o\u001b[0m\n",
            "[ 71%] \u001b[32mBuilding CXX object lm/CMakeFiles/kenlm.dir/common/size_option.cc.o\u001b[0m\n",
            "[ 71%] \u001b[32m\u001b[1mLinking CXX static library ../lib/libkenlm.a\u001b[0m\n",
            "[ 71%] Built target kenlm\n",
            "\u001b[35m\u001b[1mScanning dependencies of target query\u001b[0m\n",
            "\u001b[35m\u001b[1mScanning dependencies of target fragment\u001b[0m\n",
            "[ 72%] \u001b[32mBuilding CXX object lm/CMakeFiles/fragment.dir/fragment_main.cc.o\u001b[0m\n",
            "[ 73%] \u001b[32mBuilding CXX object lm/CMakeFiles/query.dir/query_main.cc.o\u001b[0m\n",
            "[ 73%] \u001b[32m\u001b[1mLinking CXX executable ../bin/fragment\u001b[0m\n",
            "[ 73%] Built target fragment\n",
            "\u001b[35m\u001b[1mScanning dependencies of target build_binary\u001b[0m\n",
            "[ 74%] \u001b[32mBuilding CXX object lm/CMakeFiles/build_binary.dir/build_binary_main.cc.o\u001b[0m\n",
            "[ 75%] \u001b[32m\u001b[1mLinking CXX executable ../bin/query\u001b[0m\n",
            "[ 75%] Built target query\n",
            "\u001b[35m\u001b[1mScanning dependencies of target kenlm_benchmark\u001b[0m\n",
            "[ 76%] \u001b[32mBuilding CXX object lm/CMakeFiles/kenlm_benchmark.dir/kenlm_benchmark_main.cc.o\u001b[0m\n",
            "[ 76%] \u001b[32m\u001b[1mLinking CXX executable ../bin/build_binary\u001b[0m\n",
            "[ 76%] Built target build_binary\n",
            "\u001b[35m\u001b[1mScanning dependencies of target partial_test\u001b[0m\n",
            "[ 77%] \u001b[32mBuilding CXX object lm/CMakeFiles/partial_test.dir/partial_test.cc.o\u001b[0m\n",
            "[ 78%] \u001b[32m\u001b[1mLinking CXX executable ../tests/partial_test\u001b[0m\n",
            "[ 78%] Built target partial_test\n",
            "\u001b[35m\u001b[1mScanning dependencies of target left_test\u001b[0m\n",
            "[ 79%] \u001b[32mBuilding CXX object lm/CMakeFiles/left_test.dir/left_test.cc.o\u001b[0m\n",
            "[ 80%] \u001b[32m\u001b[1mLinking CXX executable ../bin/kenlm_benchmark\u001b[0m\n",
            "[ 80%] Built target kenlm_benchmark\n",
            "\u001b[35m\u001b[1mScanning dependencies of target model_test\u001b[0m\n",
            "[ 81%] \u001b[32mBuilding CXX object lm/CMakeFiles/model_test.dir/model_test.cc.o\u001b[0m\n",
            "[ 81%] \u001b[32m\u001b[1mLinking CXX executable ../tests/left_test\u001b[0m\n",
            "[ 81%] Built target left_test\n",
            "\u001b[35m\u001b[1mScanning dependencies of target model_buffer_test\u001b[0m\n",
            "[ 82%] \u001b[32mBuilding CXX object lm/common/CMakeFiles/model_buffer_test.dir/model_buffer_test.cc.o\u001b[0m\n",
            "[ 83%] \u001b[32m\u001b[1mLinking CXX executable ../../tests/model_buffer_test\u001b[0m\n",
            "[ 83%] Built target model_buffer_test\n",
            "\u001b[35m\u001b[1mScanning dependencies of target kenlm_builder\u001b[0m\n",
            "[ 84%] \u001b[32mBuilding CXX object lm/builder/CMakeFiles/kenlm_builder.dir/adjust_counts.cc.o\u001b[0m\n",
            "[ 85%] \u001b[32mBuilding CXX object lm/builder/CMakeFiles/kenlm_builder.dir/corpus_count.cc.o\u001b[0m\n",
            "[ 85%] \u001b[32mBuilding CXX object lm/builder/CMakeFiles/kenlm_builder.dir/initial_probabilities.cc.o\u001b[0m\n",
            "[ 86%] \u001b[32mBuilding CXX object lm/builder/CMakeFiles/kenlm_builder.dir/interpolate.cc.o\u001b[0m\n",
            "[ 87%] \u001b[32mBuilding CXX object lm/builder/CMakeFiles/kenlm_builder.dir/output.cc.o\u001b[0m\n",
            "[ 88%] \u001b[32mBuilding CXX object lm/builder/CMakeFiles/kenlm_builder.dir/pipeline.cc.o\u001b[0m\n",
            "[ 88%] \u001b[32m\u001b[1mLinking CXX executable ../tests/model_test\u001b[0m\n",
            "[ 88%] Built target model_test\n",
            "\u001b[35m\u001b[1mScanning dependencies of target phrase_table_vocab\u001b[0m\n",
            "[ 89%] \u001b[32mBuilding CXX object lm/filter/CMakeFiles/phrase_table_vocab.dir/phrase_table_vocab_main.cc.o\u001b[0m\n",
            "[ 90%] \u001b[32m\u001b[1mLinking CXX executable ../../bin/phrase_table_vocab\u001b[0m\n",
            "[ 90%] Built target phrase_table_vocab\n",
            "\u001b[35m\u001b[1mScanning dependencies of target filter\u001b[0m\n",
            "[ 91%] \u001b[32mBuilding CXX object lm/filter/CMakeFiles/filter.dir/filter_main.cc.o\u001b[0m\n",
            "[ 92%] \u001b[32m\u001b[1mLinking CXX static library ../../lib/libkenlm_builder.a\u001b[0m\n",
            "[ 92%] Built target kenlm_builder\n",
            "\u001b[35m\u001b[1mScanning dependencies of target lmplz\u001b[0m\n",
            "[ 93%] \u001b[32mBuilding CXX object lm/builder/CMakeFiles/lmplz.dir/lmplz_main.cc.o\u001b[0m\n",
            "[ 94%] \u001b[32m\u001b[1mLinking CXX executable ../../bin/lmplz\u001b[0m\n",
            "[ 94%] Built target lmplz\n",
            "\u001b[35m\u001b[1mScanning dependencies of target count_ngrams\u001b[0m\n",
            "[ 95%] \u001b[32mBuilding CXX object lm/builder/CMakeFiles/count_ngrams.dir/count_ngrams_main.cc.o\u001b[0m\n",
            "[ 96%] \u001b[32m\u001b[1mLinking CXX executable ../../bin/filter\u001b[0m\n",
            "[ 96%] Built target filter\n",
            "\u001b[35m\u001b[1mScanning dependencies of target adjust_counts_test\u001b[0m\n",
            "[ 96%] \u001b[32mBuilding CXX object lm/builder/CMakeFiles/adjust_counts_test.dir/adjust_counts_test.cc.o\u001b[0m\n",
            "[ 97%] \u001b[32m\u001b[1mLinking CXX executable ../../tests/adjust_counts_test\u001b[0m\n",
            "[ 97%] Built target adjust_counts_test\n",
            "\u001b[35m\u001b[1mScanning dependencies of target corpus_count_test\u001b[0m\n",
            "[ 98%] \u001b[32mBuilding CXX object lm/builder/CMakeFiles/corpus_count_test.dir/corpus_count_test.cc.o\u001b[0m\n",
            "[ 99%] \u001b[32m\u001b[1mLinking CXX executable ../../bin/count_ngrams\u001b[0m\n",
            "[ 99%] Built target count_ngrams\n",
            "[100%] \u001b[32m\u001b[1mLinking CXX executable ../../tests/corpus_count_test\u001b[0m\n",
            "[100%] Built target corpus_count_test\n"
          ],
          "name": "stdout"
        }
      ]
    },
    {
      "cell_type": "code",
      "metadata": {
        "id": "nJ2WnQ3096vo",
        "colab_type": "code",
        "outputId": "b8f3acb0-c8ab-48bc-b748-a33c19521aa3",
        "colab": {
          "base_uri": "https://localhost:8080/",
          "height": 124
        }
      },
      "source": [
        "from google.colab import drive\n",
        "drive.mount('/content/drive', force_remount=True)"
      ],
      "execution_count": 9,
      "outputs": [
        {
          "output_type": "stream",
          "text": [
            "Go to this URL in a browser: https://accounts.google.com/o/oauth2/auth?client_id=947318989803-6bn6qk8qdgf4n4g3pfee6491hc0brc4i.apps.googleusercontent.com&redirect_uri=urn%3Aietf%3Awg%3Aoauth%3A2.0%3Aoob&scope=email%20https%3A%2F%2Fwww.googleapis.com%2Fauth%2Fdocs.test%20https%3A%2F%2Fwww.googleapis.com%2Fauth%2Fdrive%20https%3A%2F%2Fwww.googleapis.com%2Fauth%2Fdrive.photos.readonly%20https%3A%2F%2Fwww.googleapis.com%2Fauth%2Fpeopleapi.readonly&response_type=code\n",
            "\n",
            "Enter your authorization code:\n",
            "··········\n",
            "Mounted at /content/drive\n"
          ],
          "name": "stdout"
        }
      ]
    },
    {
      "cell_type": "code",
      "metadata": {
        "id": "Q90OR6wu-Ara",
        "colab_type": "code",
        "colab": {}
      },
      "source": [
        "!cp '/content/drive/My Drive/mn/vocabulary.txt' /content/kenlm/build/vocabulary.txt"
      ],
      "execution_count": 0,
      "outputs": []
    },
    {
      "cell_type": "code",
      "metadata": {
        "id": "kgQGHdlS7UYd",
        "colab_type": "code",
        "outputId": "061d795a-a775-4f59-d7c7-eba2ccab146a",
        "colab": {
          "base_uri": "https://localhost:8080/",
          "height": 677
        }
      },
      "source": [
        "!bin/lmplz -o 5 --text vocabulary.txt --arpa  words.arpa"
      ],
      "execution_count": 11,
      "outputs": [
        {
          "output_type": "stream",
          "text": [
            "=== 1/5 Counting and sorting n-grams ===\n",
            "Reading /content/kenlm/build/vocabulary.txt\n",
            "----5---10---15---20---25---30---35---40---45---50---55---60---65---70---75---80---85---90---95--100\n",
            "tcmalloc: large alloc 1923358720 bytes == 0x559c0b50c000 @  0x7fd3d765a1e7 0x559c0a6da932 0x559c0a66f188 0x559c0a64e016 0x559c0a63a17e 0x7fd3d57f3b97 0x559c0a63bbca\n",
            "tcmalloc: large alloc 8975671296 bytes == 0x559c7df4e000 @  0x7fd3d765a1e7 0x559c0a6da932 0x559c0a6c558a 0x559c0a6c5fa8 0x559c0a64e033 0x559c0a63a17e 0x7fd3d57f3b97 0x559c0a63bbca\n",
            "****************************************************************************************************\n",
            "Unigram tokens 49308 types 13890\n",
            "=== 2/5 Calculating and sorting adjusted counts ===\n",
            "Chain sizes: 1:166680 2:1065758272 3:1998296960 4:3197274880 5:4662692864\n",
            "tcmalloc: large alloc 4662697984 bytes == 0x559c0b50c000 @  0x7fd3d765a1e7 0x559c0a6da932 0x559c0a6c558a 0x559c0a6c5fa8 0x559c0a64e5dd 0x559c0a63a17e 0x7fd3d57f3b97 0x559c0a63bbca\n",
            "tcmalloc: large alloc 1998299136 bytes == 0x559d60c50000 @  0x7fd3d765a1e7 0x559c0a6da932 0x559c0a6c558a 0x559c0a6c5fa8 0x559c0a64e9c5 0x559c0a63a17e 0x7fd3d57f3b97 0x559c0a63bbca\n",
            "tcmalloc: large alloc 3197280256 bytes == 0x559e957d0000 @  0x7fd3d765a1e7 0x559c0a6da932 0x559c0a6c558a 0x559c0a6c5fa8 0x559c0a64e9c5 0x559c0a63a17e 0x7fd3d57f3b97 0x559c0a63bbca\n",
            "Statistics:\n",
            "1 13890 D1=0.685965 D2=1.13592 D3+=1.52715\n",
            "2 41825 D1=0.9076 D2=1.19885 D3+=1.33266\n",
            "3 47284 D1=0.972849 D2=1.45418 D3+=0.909581\n",
            "4 44038 D1=0.994788 D2=1.55883 D3+=2.06373\n",
            "5 39170 D1=0.998826 D2=1.86972 D3+=3\n",
            "Memory estimate for binary LM:\n",
            "type      kB\n",
            "probing 4161 assuming -p 1.5\n",
            "probing 4996 assuming -r models -p 1.5\n",
            "trie    2052 without quantization\n",
            "trie    1185 assuming -q 8 -b 8 quantization \n",
            "trie    1904 assuming -a 22 array pointer compression\n",
            "trie    1037 assuming -a 22 -q 8 -b 8 array pointer compression and quantization\n",
            "=== 3/5 Calculating and sorting initial probabilities ===\n",
            "Chain sizes: 1:166680 2:669200 3:945680 4:1056912 5:1096760\n",
            "----5---10---15---20---25---30---35---40---45---50---55---60---65---70---75---80---85---90---95--100\n",
            "\r----------------------------------------------------------------------------------------------------\r++++++++++++++++++++++++++++++++++++++++++++++++++++++++++++++++++++++++++++++++++++++++++++++++++++\r****************************************************************************************************\r####################################################################################################\n",
            "=== 4/5 Calculating and writing order-interpolated probabilities ===\n",
            "Chain sizes: 1:166680 2:669200 3:945680 4:1056912 5:1096760\n",
            "----5---10---15---20---25---30---35---40---45---50---55---60---65---70---75---80---85---90---95--100\n",
            "\r----------------------------------------------------------------------------------------------------\r++++++++++++++++++++++++++++++++++++++++++++++++++++++++++++++++++++++++++++++++++++++++++++++++++++\r****************************************************************************************************\r####################################################################################################\n",
            "=== 5/5 Writing ARPA model ===\n",
            "----5---10---15---20---25---30---35---40---45---50---55---60---65---70---75---80---85---90---95--100\n",
            "\r----------------------------------------------------------------------------------------------------\r++++++++++++++++++++++++++++++++++++++++++++++++++++++++++++++++++++++++++++++++++++++++++++++++++++\r****************************************************************************************************\n",
            "Name:lmplz\tVmPeak:14216136 kB\tVmRSS:1908172 kB\tRSSMax:1922220 kB\tuser:0.286058\tsys:0.947569\tCPU:1.23367\treal:1.20642\n"
          ],
          "name": "stdout"
        }
      ]
    },
    {
      "cell_type": "code",
      "metadata": {
        "id": "XGlj2mCF-LQU",
        "colab_type": "code",
        "outputId": "2644c386-2a5f-431e-997d-b9c40d9ce82c",
        "colab": {
          "base_uri": "https://localhost:8080/",
          "height": 86
        }
      },
      "source": [
        "!bin/build_binary words.arpa lm.binary"
      ],
      "execution_count": 12,
      "outputs": [
        {
          "output_type": "stream",
          "text": [
            "Reading words.arpa\n",
            "----5---10---15---20---25---30---35---40---45---50---55---60---65---70---75---80---85---90---95--100\n",
            "****************************************************************************************************\n",
            "SUCCESS\n"
          ],
          "name": "stdout"
        }
      ]
    }
  ]
}