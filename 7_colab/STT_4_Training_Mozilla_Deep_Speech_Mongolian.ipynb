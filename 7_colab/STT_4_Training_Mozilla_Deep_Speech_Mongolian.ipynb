{
  "nbformat": 4,
  "nbformat_minor": 0,
  "metadata": {
    "colab": {
      "name": "Training Mozilla Deep Speech : Mongolian",
      "provenance": [],
      "collapsed_sections": [
        "pHX883rk2jej"
      ],
      "toc_visible": true
    },
    "kernelspec": {
      "name": "python3",
      "display_name": "Python 3"
    },
    "accelerator": "GPU"
  },
  "cells": [
    {
      "cell_type": "markdown",
      "metadata": {
        "id": "pHX883rk2jej",
        "colab_type": "text"
      },
      "source": [
        "# Part 1 : Environment"
      ]
    },
    {
      "cell_type": "code",
      "metadata": {
        "id": "iANSruu32hoT",
        "colab_type": "code",
        "outputId": "e0ffd6e7-64ce-425e-b420-4366069881e5",
        "colab": {
          "base_uri": "https://localhost:8080/",
          "height": 538
        }
      },
      "source": [
        "!curl -s https://packagecloud.io/install/repositories/github/git-lfs/script.deb.sh | sudo bash\n",
        "!apt-get install git-lfs\n",
        "!git lfs install"
      ],
      "execution_count": 2,
      "outputs": [
        {
          "output_type": "stream",
          "text": [
            "Detected operating system as Ubuntu/bionic.\n",
            "Checking for curl...\n",
            "Detected curl...\n",
            "Checking for gpg...\n",
            "Detected gpg...\n",
            "Running apt-get update... done.\n",
            "Installing apt-transport-https... done.\n",
            "Installing /etc/apt/sources.list.d/github_git-lfs.list...done.\n",
            "Importing packagecloud gpg key... done.\n",
            "Running apt-get update... done.\n",
            "\n",
            "The repository is setup! You can now install packages.\n",
            "Reading package lists... Done\n",
            "Building dependency tree       \n",
            "Reading state information... Done\n",
            "The following NEW packages will be installed:\n",
            "  git-lfs\n",
            "0 upgraded, 1 newly installed, 0 to remove and 157 not upgraded.\n",
            "Need to get 6,081 kB of archives.\n",
            "After this operation, 14.8 MB of additional disk space will be used.\n",
            "Get:1 https://packagecloud.io/github/git-lfs/ubuntu bionic/main amd64 git-lfs amd64 2.9.0 [6,081 kB]\n",
            "Fetched 6,081 kB in 1s (7,084 kB/s)\n",
            "Selecting previously unselected package git-lfs.\n",
            "(Reading database ... 131187 files and directories currently installed.)\n",
            "Preparing to unpack .../git-lfs_2.9.0_amd64.deb ...\n",
            "Unpacking git-lfs (2.9.0) ...\n",
            "Setting up git-lfs (2.9.0) ...\n",
            "Git LFS initialized.\n",
            "Processing triggers for man-db (2.8.3-2ubuntu0.1) ...\n",
            "Git LFS initialized.\n"
          ],
          "name": "stdout"
        }
      ]
    },
    {
      "cell_type": "code",
      "metadata": {
        "id": "OAVWsJPz2vn8",
        "colab_type": "code",
        "outputId": "fdd30dee-7a43-418d-fa3f-689b39d359b8",
        "colab": {
          "base_uri": "https://localhost:8080/",
          "height": 1000
        }
      },
      "source": [
        "!apt-get install sox\n",
        "!apt-get install libsox-fmt-mp3"
      ],
      "execution_count": 3,
      "outputs": [
        {
          "output_type": "stream",
          "text": [
            "\rReading package lists... 0%\r\rReading package lists... 0%\r\rReading package lists... 0%\r\rReading package lists... 7%\r\rReading package lists... 7%\r\rReading package lists... 7%\r\rReading package lists... 7%\r\rReading package lists... 66%\r\rReading package lists... 66%\r\rReading package lists... 67%\r\rReading package lists... 67%\r\rReading package lists... 73%\r\rReading package lists... 74%\r\rReading package lists... 74%\r\rReading package lists... 74%\r\rReading package lists... 74%\r\rReading package lists... 83%\r\rReading package lists... 83%\r\rReading package lists... 83%\r\rReading package lists... 83%\r\rReading package lists... 83%\r\rReading package lists... 83%\r\rReading package lists... 83%\r\rReading package lists... 83%\r\rReading package lists... 87%\r\rReading package lists... 87%\r\rReading package lists... 88%\r\rReading package lists... 88%\r\rReading package lists... 93%\r\rReading package lists... 93%\r\rReading package lists... 93%\r\rReading package lists... 93%\r\rReading package lists... 94%\r\rReading package lists... 94%\r\rReading package lists... 94%\r\rReading package lists... 94%\r\rReading package lists... 94%\r\rReading package lists... 94%\r\rReading package lists... 95%\r\rReading package lists... 95%\r\rReading package lists... 98%\r\rReading package lists... 98%\r\rReading package lists... 98%\r\rReading package lists... 98%\r\rReading package lists... Done\r\n",
            "\rBuilding dependency tree... 0%\r\rBuilding dependency tree... 0%\r\rBuilding dependency tree... 50%\r\rBuilding dependency tree... 50%\r\rBuilding dependency tree       \r\n",
            "Reading state information... Done\n",
            "The following additional packages will be installed:\n",
            "  libmagic-mgc libmagic1 libopencore-amrnb0 libopencore-amrwb0 libsox-fmt-alsa\n",
            "  libsox-fmt-base libsox3\n",
            "Suggested packages:\n",
            "  file libsox-fmt-all\n",
            "The following NEW packages will be installed:\n",
            "  libmagic-mgc libmagic1 libopencore-amrnb0 libopencore-amrwb0 libsox-fmt-alsa\n",
            "  libsox-fmt-base libsox3 sox\n",
            "0 upgraded, 8 newly installed, 0 to remove and 157 not upgraded.\n",
            "Need to get 760 kB of archives.\n",
            "After this operation, 6,715 kB of additional disk space will be used.\n",
            "Get:1 http://archive.ubuntu.com/ubuntu bionic/universe amd64 libopencore-amrnb0 amd64 0.1.3-2.1 [92.0 kB]\n",
            "Get:2 http://archive.ubuntu.com/ubuntu bionic/universe amd64 libopencore-amrwb0 amd64 0.1.3-2.1 [45.8 kB]\n",
            "Get:3 http://archive.ubuntu.com/ubuntu bionic-updates/main amd64 libmagic-mgc amd64 1:5.32-2ubuntu0.2 [184 kB]\n",
            "Get:4 http://archive.ubuntu.com/ubuntu bionic-updates/main amd64 libmagic1 amd64 1:5.32-2ubuntu0.2 [68.5 kB]\n",
            "Get:5 http://archive.ubuntu.com/ubuntu bionic-updates/universe amd64 libsox3 amd64 14.4.2-3ubuntu0.18.04.1 [226 kB]\n",
            "Get:6 http://archive.ubuntu.com/ubuntu bionic-updates/universe amd64 libsox-fmt-alsa amd64 14.4.2-3ubuntu0.18.04.1 [10.6 kB]\n",
            "Get:7 http://archive.ubuntu.com/ubuntu bionic-updates/universe amd64 libsox-fmt-base amd64 14.4.2-3ubuntu0.18.04.1 [32.1 kB]\n",
            "Get:8 http://archive.ubuntu.com/ubuntu bionic-updates/universe amd64 sox amd64 14.4.2-3ubuntu0.18.04.1 [101 kB]\n",
            "Fetched 760 kB in 0s (1,931 kB/s)\n",
            "Selecting previously unselected package libopencore-amrnb0:amd64.\n",
            "(Reading database ... 131222 files and directories currently installed.)\n",
            "Preparing to unpack .../0-libopencore-amrnb0_0.1.3-2.1_amd64.deb ...\n",
            "Unpacking libopencore-amrnb0:amd64 (0.1.3-2.1) ...\n",
            "Selecting previously unselected package libopencore-amrwb0:amd64.\n",
            "Preparing to unpack .../1-libopencore-amrwb0_0.1.3-2.1_amd64.deb ...\n",
            "Unpacking libopencore-amrwb0:amd64 (0.1.3-2.1) ...\n",
            "Selecting previously unselected package libmagic-mgc.\n",
            "Preparing to unpack .../2-libmagic-mgc_1%3a5.32-2ubuntu0.2_amd64.deb ...\n",
            "Unpacking libmagic-mgc (1:5.32-2ubuntu0.2) ...\n",
            "Selecting previously unselected package libmagic1:amd64.\n",
            "Preparing to unpack .../3-libmagic1_1%3a5.32-2ubuntu0.2_amd64.deb ...\n",
            "Unpacking libmagic1:amd64 (1:5.32-2ubuntu0.2) ...\n",
            "Selecting previously unselected package libsox3:amd64.\n",
            "Preparing to unpack .../4-libsox3_14.4.2-3ubuntu0.18.04.1_amd64.deb ...\n",
            "Unpacking libsox3:amd64 (14.4.2-3ubuntu0.18.04.1) ...\n",
            "Selecting previously unselected package libsox-fmt-alsa:amd64.\n",
            "Preparing to unpack .../5-libsox-fmt-alsa_14.4.2-3ubuntu0.18.04.1_amd64.deb ...\n",
            "Unpacking libsox-fmt-alsa:amd64 (14.4.2-3ubuntu0.18.04.1) ...\n",
            "Selecting previously unselected package libsox-fmt-base:amd64.\n",
            "Preparing to unpack .../6-libsox-fmt-base_14.4.2-3ubuntu0.18.04.1_amd64.deb ...\n",
            "Unpacking libsox-fmt-base:amd64 (14.4.2-3ubuntu0.18.04.1) ...\n",
            "Selecting previously unselected package sox.\n",
            "Preparing to unpack .../7-sox_14.4.2-3ubuntu0.18.04.1_amd64.deb ...\n",
            "Unpacking sox (14.4.2-3ubuntu0.18.04.1) ...\n",
            "Processing triggers for mime-support (3.60ubuntu1) ...\n",
            "Setting up libmagic-mgc (1:5.32-2ubuntu0.2) ...\n",
            "Setting up libmagic1:amd64 (1:5.32-2ubuntu0.2) ...\n",
            "Processing triggers for libc-bin (2.27-3ubuntu1) ...\n",
            "Setting up libopencore-amrnb0:amd64 (0.1.3-2.1) ...\n",
            "Processing triggers for man-db (2.8.3-2ubuntu0.1) ...\n",
            "Setting up libopencore-amrwb0:amd64 (0.1.3-2.1) ...\n",
            "Setting up libsox3:amd64 (14.4.2-3ubuntu0.18.04.1) ...\n",
            "Setting up libsox-fmt-base:amd64 (14.4.2-3ubuntu0.18.04.1) ...\n",
            "Setting up libsox-fmt-alsa:amd64 (14.4.2-3ubuntu0.18.04.1) ...\n",
            "Setting up sox (14.4.2-3ubuntu0.18.04.1) ...\n",
            "Processing triggers for libc-bin (2.27-3ubuntu1) ...\n",
            "Reading package lists... Done\n",
            "Building dependency tree       \n",
            "Reading state information... Done\n",
            "The following additional packages will be installed:\n",
            "  libid3tag0 libmad0\n",
            "The following NEW packages will be installed:\n",
            "  libid3tag0 libmad0 libsox-fmt-mp3\n",
            "0 upgraded, 3 newly installed, 0 to remove and 157 not upgraded.\n",
            "Need to get 112 kB of archives.\n",
            "After this operation, 370 kB of additional disk space will be used.\n",
            "Get:1 http://archive.ubuntu.com/ubuntu bionic/universe amd64 libid3tag0 amd64 0.15.1b-13 [31.2 kB]\n",
            "Get:2 http://archive.ubuntu.com/ubuntu bionic-updates/universe amd64 libmad0 amd64 0.15.1b-9ubuntu18.04.1 [64.6 kB]\n",
            "Get:3 http://archive.ubuntu.com/ubuntu bionic-updates/universe amd64 libsox-fmt-mp3 amd64 14.4.2-3ubuntu0.18.04.1 [15.9 kB]\n",
            "Fetched 112 kB in 0s (747 kB/s)\n",
            "Selecting previously unselected package libid3tag0:amd64.\n",
            "(Reading database ... 131310 files and directories currently installed.)\n",
            "Preparing to unpack .../libid3tag0_0.15.1b-13_amd64.deb ...\n",
            "Unpacking libid3tag0:amd64 (0.15.1b-13) ...\n",
            "Selecting previously unselected package libmad0:amd64.\n",
            "Preparing to unpack .../libmad0_0.15.1b-9ubuntu18.04.1_amd64.deb ...\n",
            "Unpacking libmad0:amd64 (0.15.1b-9ubuntu18.04.1) ...\n",
            "Selecting previously unselected package libsox-fmt-mp3:amd64.\n",
            "Preparing to unpack .../libsox-fmt-mp3_14.4.2-3ubuntu0.18.04.1_amd64.deb ...\n",
            "Unpacking libsox-fmt-mp3:amd64 (14.4.2-3ubuntu0.18.04.1) ...\n",
            "Setting up libid3tag0:amd64 (0.15.1b-13) ...\n",
            "Processing triggers for libc-bin (2.27-3ubuntu1) ...\n",
            "Setting up libmad0:amd64 (0.15.1b-9ubuntu18.04.1) ...\n",
            "Setting up libsox-fmt-mp3:amd64 (14.4.2-3ubuntu0.18.04.1) ...\n",
            "Processing triggers for libc-bin (2.27-3ubuntu1) ...\n"
          ],
          "name": "stdout"
        }
      ]
    },
    {
      "cell_type": "code",
      "metadata": {
        "id": "YOrQFpQ42w-1",
        "colab_type": "code",
        "outputId": "1ef8b3d8-0f16-45fd-c81d-003fcc124c66",
        "colab": {
          "base_uri": "https://localhost:8080/",
          "height": 104
        }
      },
      "source": [
        "!pip3 install virtualenv"
      ],
      "execution_count": 4,
      "outputs": [
        {
          "output_type": "stream",
          "text": [
            "Collecting virtualenv\n",
            "\u001b[?25l  Downloading https://files.pythonhosted.org/packages/89/66/786e0d6f61bd0612f431e19b016d1ae46f1cb8d21a80352cc6774ec876e3/virtualenv-16.7.6-py2.py3-none-any.whl (3.4MB)\n",
            "\r\u001b[K     |                                | 10kB 15.3MB/s eta 0:00:01\r\u001b[K     |▏                               | 20kB 4.3MB/s eta 0:00:01\r\u001b[K     |▎                               | 30kB 6.1MB/s eta 0:00:01\r\u001b[K     |▍                               | 40kB 4.0MB/s eta 0:00:01\r\u001b[K     |▌                               | 51kB 4.9MB/s eta 0:00:01\r\u001b[K     |▋                               | 61kB 5.7MB/s eta 0:00:01\r\u001b[K     |▊                               | 71kB 6.6MB/s eta 0:00:01\r\u001b[K     |▉                               | 81kB 7.4MB/s eta 0:00:01\r\u001b[K     |▉                               | 92kB 8.2MB/s eta 0:00:01\r\u001b[K     |█                               | 102kB 6.5MB/s eta 0:00:01\r\u001b[K     |█                               | 112kB 6.5MB/s eta 0:00:01\r\u001b[K     |█▏                              | 122kB 6.5MB/s eta 0:00:01\r\u001b[K     |█▎                              | 133kB 6.5MB/s eta 0:00:01\r\u001b[K     |█▍                              | 143kB 6.5MB/s eta 0:00:01\r\u001b[K     |█▌                              | 153kB 6.5MB/s eta 0:00:01\r\u001b[K     |█▋                              | 163kB 6.5MB/s eta 0:00:01\r\u001b[K     |█▋                              | 174kB 6.5MB/s eta 0:00:01\r\u001b[K     |█▊                              | 184kB 6.5MB/s eta 0:00:01\r\u001b[K     |█▉                              | 194kB 6.5MB/s eta 0:00:01\r\u001b[K     |██                              | 204kB 6.5MB/s eta 0:00:01\r\u001b[K     |██                              | 215kB 6.5MB/s eta 0:00:01\r\u001b[K     |██▏                             | 225kB 6.5MB/s eta 0:00:01\r\u001b[K     |██▎                             | 235kB 6.5MB/s eta 0:00:01\r\u001b[K     |██▍                             | 245kB 6.5MB/s eta 0:00:01\r\u001b[K     |██▌                             | 256kB 6.5MB/s eta 0:00:01\r\u001b[K     |██▌                             | 266kB 6.5MB/s eta 0:00:01\r\u001b[K     |██▋                             | 276kB 6.5MB/s eta 0:00:01\r\u001b[K     |██▊                             | 286kB 6.5MB/s eta 0:00:01\r\u001b[K     |██▉                             | 296kB 6.5MB/s eta 0:00:01\r\u001b[K     |███                             | 307kB 6.5MB/s eta 0:00:01\r\u001b[K     |███                             | 317kB 6.5MB/s eta 0:00:01\r\u001b[K     |███▏                            | 327kB 6.5MB/s eta 0:00:01\r\u001b[K     |███▎                            | 337kB 6.5MB/s eta 0:00:01\r\u001b[K     |███▎                            | 348kB 6.5MB/s eta 0:00:01\r\u001b[K     |███▍                            | 358kB 6.5MB/s eta 0:00:01\r\u001b[K     |███▌                            | 368kB 6.5MB/s eta 0:00:01\r\u001b[K     |███▋                            | 378kB 6.5MB/s eta 0:00:01\r\u001b[K     |███▊                            | 389kB 6.5MB/s eta 0:00:01\r\u001b[K     |███▉                            | 399kB 6.5MB/s eta 0:00:01\r\u001b[K     |████                            | 409kB 6.5MB/s eta 0:00:01\r\u001b[K     |████                            | 419kB 6.5MB/s eta 0:00:01\r\u001b[K     |████                            | 430kB 6.5MB/s eta 0:00:01\r\u001b[K     |████▏                           | 440kB 6.5MB/s eta 0:00:01\r\u001b[K     |████▎                           | 450kB 6.5MB/s eta 0:00:01\r\u001b[K     |████▍                           | 460kB 6.5MB/s eta 0:00:01\r\u001b[K     |████▌                           | 471kB 6.5MB/s eta 0:00:01\r\u001b[K     |████▋                           | 481kB 6.5MB/s eta 0:00:01\r\u001b[K     |████▊                           | 491kB 6.5MB/s eta 0:00:01\r\u001b[K     |████▉                           | 501kB 6.5MB/s eta 0:00:01\r\u001b[K     |█████                           | 512kB 6.5MB/s eta 0:00:01\r\u001b[K     |█████                           | 522kB 6.5MB/s eta 0:00:01\r\u001b[K     |█████                           | 532kB 6.5MB/s eta 0:00:01\r\u001b[K     |█████▏                          | 542kB 6.5MB/s eta 0:00:01\r\u001b[K     |█████▎                          | 552kB 6.5MB/s eta 0:00:01\r\u001b[K     |█████▍                          | 563kB 6.5MB/s eta 0:00:01\r\u001b[K     |█████▌                          | 573kB 6.5MB/s eta 0:00:01\r\u001b[K     |█████▋                          | 583kB 6.5MB/s eta 0:00:01\r\u001b[K     |█████▊                          | 593kB 6.5MB/s eta 0:00:01\r\u001b[K     |█████▊                          | 604kB 6.5MB/s eta 0:00:01\r\u001b[K     |█████▉                          | 614kB 6.5MB/s eta 0:00:01\r\u001b[K     |██████                          | 624kB 6.5MB/s eta 0:00:01\r\u001b[K     |██████                          | 634kB 6.5MB/s eta 0:00:01\r\u001b[K     |██████▏                         | 645kB 6.5MB/s eta 0:00:01\r\u001b[K     |██████▎                         | 655kB 6.5MB/s eta 0:00:01\r\u001b[K     |██████▍                         | 665kB 6.5MB/s eta 0:00:01\r\u001b[K     |██████▌                         | 675kB 6.5MB/s eta 0:00:01\r\u001b[K     |██████▌                         | 686kB 6.5MB/s eta 0:00:01\r\u001b[K     |██████▋                         | 696kB 6.5MB/s eta 0:00:01\r\u001b[K     |██████▊                         | 706kB 6.5MB/s eta 0:00:01\r\u001b[K     |██████▉                         | 716kB 6.5MB/s eta 0:00:01\r\u001b[K     |███████                         | 727kB 6.5MB/s eta 0:00:01\r\u001b[K     |███████                         | 737kB 6.5MB/s eta 0:00:01\r\u001b[K     |███████▏                        | 747kB 6.5MB/s eta 0:00:01\r\u001b[K     |███████▎                        | 757kB 6.5MB/s eta 0:00:01\r\u001b[K     |███████▍                        | 768kB 6.5MB/s eta 0:00:01\r\u001b[K     |███████▍                        | 778kB 6.5MB/s eta 0:00:01\r\u001b[K     |███████▌                        | 788kB 6.5MB/s eta 0:00:01\r\u001b[K     |███████▋                        | 798kB 6.5MB/s eta 0:00:01\r\u001b[K     |███████▊                        | 808kB 6.5MB/s eta 0:00:01\r\u001b[K     |███████▉                        | 819kB 6.5MB/s eta 0:00:01\r\u001b[K     |████████                        | 829kB 6.5MB/s eta 0:00:01\r\u001b[K     |████████                        | 839kB 6.5MB/s eta 0:00:01\r\u001b[K     |████████▏                       | 849kB 6.5MB/s eta 0:00:01\r\u001b[K     |████████▏                       | 860kB 6.5MB/s eta 0:00:01\r\u001b[K     |████████▎                       | 870kB 6.5MB/s eta 0:00:01\r\u001b[K     |████████▍                       | 880kB 6.5MB/s eta 0:00:01\r\u001b[K     |████████▌                       | 890kB 6.5MB/s eta 0:00:01\r\u001b[K     |████████▋                       | 901kB 6.5MB/s eta 0:00:01\r\u001b[K     |████████▊                       | 911kB 6.5MB/s eta 0:00:01\r\u001b[K     |████████▉                       | 921kB 6.5MB/s eta 0:00:01\r\u001b[K     |█████████                       | 931kB 6.5MB/s eta 0:00:01\r\u001b[K     |█████████                       | 942kB 6.5MB/s eta 0:00:01\r\u001b[K     |█████████                       | 952kB 6.5MB/s eta 0:00:01\r\u001b[K     |█████████▏                      | 962kB 6.5MB/s eta 0:00:01\r\u001b[K     |█████████▎                      | 972kB 6.5MB/s eta 0:00:01\r\u001b[K     |█████████▍                      | 983kB 6.5MB/s eta 0:00:01\r\u001b[K     |█████████▌                      | 993kB 6.5MB/s eta 0:00:01\r\u001b[K     |█████████▋                      | 1.0MB 6.5MB/s eta 0:00:01\r\u001b[K     |█████████▊                      | 1.0MB 6.5MB/s eta 0:00:01\r\u001b[K     |█████████▉                      | 1.0MB 6.5MB/s eta 0:00:01\r\u001b[K     |█████████▉                      | 1.0MB 6.5MB/s eta 0:00:01\r\u001b[K     |██████████                      | 1.0MB 6.5MB/s eta 0:00:01\r\u001b[K     |██████████                      | 1.1MB 6.5MB/s eta 0:00:01\r\u001b[K     |██████████▏                     | 1.1MB 6.5MB/s eta 0:00:01\r\u001b[K     |██████████▎                     | 1.1MB 6.5MB/s eta 0:00:01\r\u001b[K     |██████████▍                     | 1.1MB 6.5MB/s eta 0:00:01\r\u001b[K     |██████████▌                     | 1.1MB 6.5MB/s eta 0:00:01\r\u001b[K     |██████████▋                     | 1.1MB 6.5MB/s eta 0:00:01\r\u001b[K     |██████████▋                     | 1.1MB 6.5MB/s eta 0:00:01\r\u001b[K     |██████████▊                     | 1.1MB 6.5MB/s eta 0:00:01\r\u001b[K     |██████████▉                     | 1.1MB 6.5MB/s eta 0:00:01\r\u001b[K     |███████████                     | 1.1MB 6.5MB/s eta 0:00:01\r\u001b[K     |███████████                     | 1.2MB 6.5MB/s eta 0:00:01\r\u001b[K     |███████████▏                    | 1.2MB 6.5MB/s eta 0:00:01\r\u001b[K     |███████████▎                    | 1.2MB 6.5MB/s eta 0:00:01\r\u001b[K     |███████████▍                    | 1.2MB 6.5MB/s eta 0:00:01\r\u001b[K     |███████████▍                    | 1.2MB 6.5MB/s eta 0:00:01\r\u001b[K     |███████████▌                    | 1.2MB 6.5MB/s eta 0:00:01\r\u001b[K     |███████████▋                    | 1.2MB 6.5MB/s eta 0:00:01\r\u001b[K     |███████████▊                    | 1.2MB 6.5MB/s eta 0:00:01\r\u001b[K     |███████████▉                    | 1.2MB 6.5MB/s eta 0:00:01\r\u001b[K     |████████████                    | 1.2MB 6.5MB/s eta 0:00:01\r\u001b[K     |████████████                    | 1.3MB 6.5MB/s eta 0:00:01\r\u001b[K     |████████████▏                   | 1.3MB 6.5MB/s eta 0:00:01\r\u001b[K     |████████████▎                   | 1.3MB 6.5MB/s eta 0:00:01\r\u001b[K     |████████████▎                   | 1.3MB 6.5MB/s eta 0:00:01\r\u001b[K     |████████████▍                   | 1.3MB 6.5MB/s eta 0:00:01\r\u001b[K     |████████████▌                   | 1.3MB 6.5MB/s eta 0:00:01\r\u001b[K     |████████████▋                   | 1.3MB 6.5MB/s eta 0:00:01\r\u001b[K     |████████████▊                   | 1.3MB 6.5MB/s eta 0:00:01\r\u001b[K     |████████████▉                   | 1.3MB 6.5MB/s eta 0:00:01\r\u001b[K     |█████████████                   | 1.4MB 6.5MB/s eta 0:00:01\r\u001b[K     |█████████████                   | 1.4MB 6.5MB/s eta 0:00:01\r\u001b[K     |█████████████                   | 1.4MB 6.5MB/s eta 0:00:01\r\u001b[K     |█████████████▏                  | 1.4MB 6.5MB/s eta 0:00:01\r\u001b[K     |█████████████▎                  | 1.4MB 6.5MB/s eta 0:00:01\r\u001b[K     |█████████████▍                  | 1.4MB 6.5MB/s eta 0:00:01\r\u001b[K     |█████████████▌                  | 1.4MB 6.5MB/s eta 0:00:01\r\u001b[K     |█████████████▋                  | 1.4MB 6.5MB/s eta 0:00:01\r\u001b[K     |█████████████▊                  | 1.4MB 6.5MB/s eta 0:00:01\r\u001b[K     |█████████████▉                  | 1.4MB 6.5MB/s eta 0:00:01\r\u001b[K     |█████████████▉                  | 1.5MB 6.5MB/s eta 0:00:01\r\u001b[K     |██████████████                  | 1.5MB 6.5MB/s eta 0:00:01\r\u001b[K     |██████████████                  | 1.5MB 6.5MB/s eta 0:00:01\r\u001b[K     |██████████████▏                 | 1.5MB 6.5MB/s eta 0:00:01\r\u001b[K     |██████████████▎                 | 1.5MB 6.5MB/s eta 0:00:01\r\u001b[K     |██████████████▍                 | 1.5MB 6.5MB/s eta 0:00:01\r\u001b[K     |██████████████▌                 | 1.5MB 6.5MB/s eta 0:00:01\r\u001b[K     |██████████████▋                 | 1.5MB 6.5MB/s eta 0:00:01\r\u001b[K     |██████████████▊                 | 1.5MB 6.5MB/s eta 0:00:01\r\u001b[K     |██████████████▊                 | 1.5MB 6.5MB/s eta 0:00:01\r\u001b[K     |██████████████▉                 | 1.6MB 6.5MB/s eta 0:00:01\r\u001b[K     |███████████████                 | 1.6MB 6.5MB/s eta 0:00:01\r\u001b[K     |███████████████                 | 1.6MB 6.5MB/s eta 0:00:01\r\u001b[K     |███████████████▏                | 1.6MB 6.5MB/s eta 0:00:01\r\u001b[K     |███████████████▎                | 1.6MB 6.5MB/s eta 0:00:01\r\u001b[K     |███████████████▍                | 1.6MB 6.5MB/s eta 0:00:01\r\u001b[K     |███████████████▌                | 1.6MB 6.5MB/s eta 0:00:01\r\u001b[K     |███████████████▌                | 1.6MB 6.5MB/s eta 0:00:01\r\u001b[K     |███████████████▋                | 1.6MB 6.5MB/s eta 0:00:01\r\u001b[K     |███████████████▊                | 1.6MB 6.5MB/s eta 0:00:01\r\u001b[K     |███████████████▉                | 1.7MB 6.5MB/s eta 0:00:01\r\u001b[K     |████████████████                | 1.7MB 6.5MB/s eta 0:00:01\r\u001b[K     |████████████████                | 1.7MB 6.5MB/s eta 0:00:01\r\u001b[K     |████████████████▏               | 1.7MB 6.5MB/s eta 0:00:01\r\u001b[K     |████████████████▎               | 1.7MB 6.5MB/s eta 0:00:01\r\u001b[K     |████████████████▎               | 1.7MB 6.5MB/s eta 0:00:01\r\u001b[K     |████████████████▍               | 1.7MB 6.5MB/s eta 0:00:01\r\u001b[K     |████████████████▌               | 1.7MB 6.5MB/s eta 0:00:01\r\u001b[K     |████████████████▋               | 1.7MB 6.5MB/s eta 0:00:01\r\u001b[K     |████████████████▊               | 1.8MB 6.5MB/s eta 0:00:01\r\u001b[K     |████████████████▉               | 1.8MB 6.5MB/s eta 0:00:01\r\u001b[K     |█████████████████               | 1.8MB 6.5MB/s eta 0:00:01\r\u001b[K     |█████████████████               | 1.8MB 6.5MB/s eta 0:00:01\r\u001b[K     |█████████████████▏              | 1.8MB 6.5MB/s eta 0:00:01\r\u001b[K     |█████████████████▏              | 1.8MB 6.5MB/s eta 0:00:01\r\u001b[K     |█████████████████▎              | 1.8MB 6.5MB/s eta 0:00:01\r\u001b[K     |█████████████████▍              | 1.8MB 6.5MB/s eta 0:00:01\r\u001b[K     |█████████████████▌              | 1.8MB 6.5MB/s eta 0:00:01\r\u001b[K     |█████████████████▋              | 1.8MB 6.5MB/s eta 0:00:01\r\u001b[K     |█████████████████▊              | 1.9MB 6.5MB/s eta 0:00:01\r\u001b[K     |█████████████████▉              | 1.9MB 6.5MB/s eta 0:00:01\r\u001b[K     |██████████████████              | 1.9MB 6.5MB/s eta 0:00:01\r\u001b[K     |██████████████████              | 1.9MB 6.5MB/s eta 0:00:01\r\u001b[K     |██████████████████              | 1.9MB 6.5MB/s eta 0:00:01\r\u001b[K     |██████████████████▏             | 1.9MB 6.5MB/s eta 0:00:01\r\u001b[K     |██████████████████▎             | 1.9MB 6.5MB/s eta 0:00:01\r\u001b[K     |██████████████████▍             | 1.9MB 6.5MB/s eta 0:00:01\r\u001b[K     |██████████████████▌             | 1.9MB 6.5MB/s eta 0:00:01\r\u001b[K     |██████████████████▋             | 1.9MB 6.5MB/s eta 0:00:01\r\u001b[K     |██████████████████▊             | 2.0MB 6.5MB/s eta 0:00:01\r\u001b[K     |██████████████████▊             | 2.0MB 6.5MB/s eta 0:00:01\r\u001b[K     |██████████████████▉             | 2.0MB 6.5MB/s eta 0:00:01\r\u001b[K     |███████████████████             | 2.0MB 6.5MB/s eta 0:00:01\r\u001b[K     |███████████████████             | 2.0MB 6.5MB/s eta 0:00:01\r\u001b[K     |███████████████████▏            | 2.0MB 6.5MB/s eta 0:00:01\r\u001b[K     |███████████████████▎            | 2.0MB 6.5MB/s eta 0:00:01\r\u001b[K     |███████████████████▍            | 2.0MB 6.5MB/s eta 0:00:01\r\u001b[K     |███████████████████▌            | 2.0MB 6.5MB/s eta 0:00:01\r\u001b[K     |███████████████████▋            | 2.0MB 6.5MB/s eta 0:00:01\r\u001b[K     |███████████████████▋            | 2.1MB 6.5MB/s eta 0:00:01\r\u001b[K     |███████████████████▊            | 2.1MB 6.5MB/s eta 0:00:01\r\u001b[K     |███████████████████▉            | 2.1MB 6.5MB/s eta 0:00:01\r\u001b[K     |████████████████████            | 2.1MB 6.5MB/s eta 0:00:01\r\u001b[K     |████████████████████            | 2.1MB 6.5MB/s eta 0:00:01\r\u001b[K     |████████████████████▏           | 2.1MB 6.5MB/s eta 0:00:01\r\u001b[K     |████████████████████▎           | 2.1MB 6.5MB/s eta 0:00:01\r\u001b[K     |████████████████████▍           | 2.1MB 6.5MB/s eta 0:00:01\r\u001b[K     |████████████████████▍           | 2.1MB 6.5MB/s eta 0:00:01\r\u001b[K     |████████████████████▌           | 2.2MB 6.5MB/s eta 0:00:01\r\u001b[K     |████████████████████▋           | 2.2MB 6.5MB/s eta 0:00:01\r\u001b[K     |████████████████████▊           | 2.2MB 6.5MB/s eta 0:00:01\r\u001b[K     |████████████████████▉           | 2.2MB 6.5MB/s eta 0:00:01\r\u001b[K     |█████████████████████           | 2.2MB 6.5MB/s eta 0:00:01\r\u001b[K     |█████████████████████           | 2.2MB 6.5MB/s eta 0:00:01\r\u001b[K     |█████████████████████▏          | 2.2MB 6.5MB/s eta 0:00:01\r\u001b[K     |█████████████████████▏          | 2.2MB 6.5MB/s eta 0:00:01\r\u001b[K     |█████████████████████▎          | 2.2MB 6.5MB/s eta 0:00:01\r\u001b[K     |█████████████████████▍          | 2.2MB 6.5MB/s eta 0:00:01\r\u001b[K     |█████████████████████▌          | 2.3MB 6.5MB/s eta 0:00:01\r\u001b[K     |█████████████████████▋          | 2.3MB 6.5MB/s eta 0:00:01\r\u001b[K     |█████████████████████▊          | 2.3MB 6.5MB/s eta 0:00:01\r\u001b[K     |█████████████████████▉          | 2.3MB 6.5MB/s eta 0:00:01\r\u001b[K     |██████████████████████          | 2.3MB 6.5MB/s eta 0:00:01\r\u001b[K     |██████████████████████          | 2.3MB 6.5MB/s eta 0:00:01\r\u001b[K     |██████████████████████          | 2.3MB 6.5MB/s eta 0:00:01\r\u001b[K     |██████████████████████▏         | 2.3MB 6.5MB/s eta 0:00:01\r\u001b[K     |██████████████████████▎         | 2.3MB 6.5MB/s eta 0:00:01\r\u001b[K     |██████████████████████▍         | 2.3MB 6.5MB/s eta 0:00:01\r\u001b[K     |██████████████████████▌         | 2.4MB 6.5MB/s eta 0:00:01\r\u001b[K     |██████████████████████▋         | 2.4MB 6.5MB/s eta 0:00:01\r\u001b[K     |██████████████████████▊         | 2.4MB 6.5MB/s eta 0:00:01\r\u001b[K     |██████████████████████▉         | 2.4MB 6.5MB/s eta 0:00:01\r\u001b[K     |██████████████████████▉         | 2.4MB 6.5MB/s eta 0:00:01\r\u001b[K     |███████████████████████         | 2.4MB 6.5MB/s eta 0:00:01\r\u001b[K     |███████████████████████         | 2.4MB 6.5MB/s eta 0:00:01\r\u001b[K     |███████████████████████▏        | 2.4MB 6.5MB/s eta 0:00:01\r\u001b[K     |███████████████████████▎        | 2.4MB 6.5MB/s eta 0:00:01\r\u001b[K     |███████████████████████▍        | 2.4MB 6.5MB/s eta 0:00:01\r\u001b[K     |███████████████████████▌        | 2.5MB 6.5MB/s eta 0:00:01\r\u001b[K     |███████████████████████▋        | 2.5MB 6.5MB/s eta 0:00:01\r\u001b[K     |███████████████████████▋        | 2.5MB 6.5MB/s eta 0:00:01\r\u001b[K     |███████████████████████▊        | 2.5MB 6.5MB/s eta 0:00:01\r\u001b[K     |███████████████████████▉        | 2.5MB 6.5MB/s eta 0:00:01\r\u001b[K     |████████████████████████        | 2.5MB 6.5MB/s eta 0:00:01\r\u001b[K     |████████████████████████        | 2.5MB 6.5MB/s eta 0:00:01\r\u001b[K     |████████████████████████▏       | 2.5MB 6.5MB/s eta 0:00:01\r\u001b[K     |████████████████████████▎       | 2.5MB 6.5MB/s eta 0:00:01\r\u001b[K     |████████████████████████▍       | 2.5MB 6.5MB/s eta 0:00:01\r\u001b[K     |████████████████████████▌       | 2.6MB 6.5MB/s eta 0:00:01\r\u001b[K     |████████████████████████▌       | 2.6MB 6.5MB/s eta 0:00:01\r\u001b[K     |████████████████████████▋       | 2.6MB 6.5MB/s eta 0:00:01\r\u001b[K     |████████████████████████▊       | 2.6MB 6.5MB/s eta 0:00:01\r\u001b[K     |████████████████████████▉       | 2.6MB 6.5MB/s eta 0:00:01\r\u001b[K     |█████████████████████████       | 2.6MB 6.5MB/s eta 0:00:01\r\u001b[K     |█████████████████████████       | 2.6MB 6.5MB/s eta 0:00:01\r\u001b[K     |█████████████████████████▏      | 2.6MB 6.5MB/s eta 0:00:01\r\u001b[K     |█████████████████████████▎      | 2.6MB 6.5MB/s eta 0:00:01\r\u001b[K     |█████████████████████████▎      | 2.7MB 6.5MB/s eta 0:00:01\r\u001b[K     |█████████████████████████▍      | 2.7MB 6.5MB/s eta 0:00:01\r\u001b[K     |█████████████████████████▌      | 2.7MB 6.5MB/s eta 0:00:01\r\u001b[K     |█████████████████████████▋      | 2.7MB 6.5MB/s eta 0:00:01\r\u001b[K     |█████████████████████████▊      | 2.7MB 6.5MB/s eta 0:00:01\r\u001b[K     |█████████████████████████▉      | 2.7MB 6.5MB/s eta 0:00:01\r\u001b[K     |██████████████████████████      | 2.7MB 6.5MB/s eta 0:00:01\r\u001b[K     |██████████████████████████      | 2.7MB 6.5MB/s eta 0:00:01\r\u001b[K     |██████████████████████████      | 2.7MB 6.5MB/s eta 0:00:01\r\u001b[K     |██████████████████████████▏     | 2.7MB 6.5MB/s eta 0:00:01\r\u001b[K     |██████████████████████████▎     | 2.8MB 6.5MB/s eta 0:00:01\r\u001b[K     |██████████████████████████▍     | 2.8MB 6.5MB/s eta 0:00:01\r\u001b[K     |██████████████████████████▌     | 2.8MB 6.5MB/s eta 0:00:01\r\u001b[K     |██████████████████████████▋     | 2.8MB 6.5MB/s eta 0:00:01\r\u001b[K     |██████████████████████████▊     | 2.8MB 6.5MB/s eta 0:00:01\r\u001b[K     |██████████████████████████▉     | 2.8MB 6.5MB/s eta 0:00:01\r\u001b[K     |███████████████████████████     | 2.8MB 6.5MB/s eta 0:00:01\r\u001b[K     |███████████████████████████     | 2.8MB 6.5MB/s eta 0:00:01\r\u001b[K     |███████████████████████████     | 2.8MB 6.5MB/s eta 0:00:01\r\u001b[K     |███████████████████████████▏    | 2.8MB 6.5MB/s eta 0:00:01\r\u001b[K     |███████████████████████████▎    | 2.9MB 6.5MB/s eta 0:00:01\r\u001b[K     |███████████████████████████▍    | 2.9MB 6.5MB/s eta 0:00:01\r\u001b[K     |███████████████████████████▌    | 2.9MB 6.5MB/s eta 0:00:01\r\u001b[K     |███████████████████████████▋    | 2.9MB 6.5MB/s eta 0:00:01\r\u001b[K     |███████████████████████████▊    | 2.9MB 6.5MB/s eta 0:00:01\r\u001b[K     |███████████████████████████▊    | 2.9MB 6.5MB/s eta 0:00:01\r\u001b[K     |███████████████████████████▉    | 2.9MB 6.5MB/s eta 0:00:01\r\u001b[K     |████████████████████████████    | 2.9MB 6.5MB/s eta 0:00:01\r\u001b[K     |████████████████████████████    | 2.9MB 6.5MB/s eta 0:00:01\r\u001b[K     |████████████████████████████▏   | 2.9MB 6.5MB/s eta 0:00:01\r\u001b[K     |████████████████████████████▎   | 3.0MB 6.5MB/s eta 0:00:01\r\u001b[K     |████████████████████████████▍   | 3.0MB 6.5MB/s eta 0:00:01\r\u001b[K     |████████████████████████████▌   | 3.0MB 6.5MB/s eta 0:00:01\r\u001b[K     |████████████████████████████▌   | 3.0MB 6.5MB/s eta 0:00:01\r\u001b[K     |████████████████████████████▋   | 3.0MB 6.5MB/s eta 0:00:01\r\u001b[K     |████████████████████████████▊   | 3.0MB 6.5MB/s eta 0:00:01\r\u001b[K     |████████████████████████████▉   | 3.0MB 6.5MB/s eta 0:00:01\r\u001b[K     |█████████████████████████████   | 3.0MB 6.5MB/s eta 0:00:01\r\u001b[K     |█████████████████████████████   | 3.0MB 6.5MB/s eta 0:00:01\r\u001b[K     |█████████████████████████████▏  | 3.1MB 6.5MB/s eta 0:00:01\r\u001b[K     |█████████████████████████████▎  | 3.1MB 6.5MB/s eta 0:00:01\r\u001b[K     |█████████████████████████████▍  | 3.1MB 6.5MB/s eta 0:00:01\r\u001b[K     |█████████████████████████████▍  | 3.1MB 6.5MB/s eta 0:00:01\r\u001b[K     |█████████████████████████████▌  | 3.1MB 6.5MB/s eta 0:00:01\r\u001b[K     |█████████████████████████████▋  | 3.1MB 6.5MB/s eta 0:00:01\r\u001b[K     |█████████████████████████████▊  | 3.1MB 6.5MB/s eta 0:00:01\r\u001b[K     |█████████████████████████████▉  | 3.1MB 6.5MB/s eta 0:00:01\r\u001b[K     |██████████████████████████████  | 3.1MB 6.5MB/s eta 0:00:01\r\u001b[K     |██████████████████████████████  | 3.1MB 6.5MB/s eta 0:00:01\r\u001b[K     |██████████████████████████████▏ | 3.2MB 6.5MB/s eta 0:00:01\r\u001b[K     |██████████████████████████████▏ | 3.2MB 6.5MB/s eta 0:00:01\r\u001b[K     |██████████████████████████████▎ | 3.2MB 6.5MB/s eta 0:00:01\r\u001b[K     |██████████████████████████████▍ | 3.2MB 6.5MB/s eta 0:00:01\r\u001b[K     |██████████████████████████████▌ | 3.2MB 6.5MB/s eta 0:00:01\r\u001b[K     |██████████████████████████████▋ | 3.2MB 6.5MB/s eta 0:00:01\r\u001b[K     |██████████████████████████████▊ | 3.2MB 6.5MB/s eta 0:00:01\r\u001b[K     |██████████████████████████████▉ | 3.2MB 6.5MB/s eta 0:00:01\r\u001b[K     |███████████████████████████████ | 3.2MB 6.5MB/s eta 0:00:01\r\u001b[K     |███████████████████████████████ | 3.2MB 6.5MB/s eta 0:00:01\r\u001b[K     |███████████████████████████████ | 3.3MB 6.5MB/s eta 0:00:01\r\u001b[K     |███████████████████████████████▏| 3.3MB 6.5MB/s eta 0:00:01\r\u001b[K     |███████████████████████████████▎| 3.3MB 6.5MB/s eta 0:00:01\r\u001b[K     |███████████████████████████████▍| 3.3MB 6.5MB/s eta 0:00:01\r\u001b[K     |███████████████████████████████▌| 3.3MB 6.5MB/s eta 0:00:01\r\u001b[K     |███████████████████████████████▋| 3.3MB 6.5MB/s eta 0:00:01\r\u001b[K     |███████████████████████████████▊| 3.3MB 6.5MB/s eta 0:00:01\r\u001b[K     |███████████████████████████████▉| 3.3MB 6.5MB/s eta 0:00:01\r\u001b[K     |███████████████████████████████▉| 3.3MB 6.5MB/s eta 0:00:01\r\u001b[K     |████████████████████████████████| 3.3MB 6.5MB/s eta 0:00:01\r\u001b[K     |████████████████████████████████| 3.4MB 6.5MB/s \n",
            "\u001b[?25hInstalling collected packages: virtualenv\n",
            "Successfully installed virtualenv-16.7.6\n"
          ],
          "name": "stdout"
        }
      ]
    },
    {
      "cell_type": "markdown",
      "metadata": {
        "id": "AlP83Xtk3EnB",
        "colab_type": "text"
      },
      "source": [
        "**Activate virtual environment**"
      ]
    },
    {
      "cell_type": "code",
      "metadata": {
        "id": "jYWp4zrc2_Vm",
        "colab_type": "code",
        "outputId": "93a53ef9-0df3-407d-b5ed-2b5312dd2ede",
        "colab": {
          "base_uri": "https://localhost:8080/",
          "height": 121
        }
      },
      "source": [
        "!virtualenv -p python3 $HOME/tmp/deepspeech-venv/ && source $HOME/tmp/deepspeech-venv/bin/activate"
      ],
      "execution_count": 5,
      "outputs": [
        {
          "output_type": "stream",
          "text": [
            "Already using interpreter /usr/bin/python3\n",
            "Using base prefix '/usr'\n",
            "New python executable in /root/tmp/deepspeech-venv/bin/python3\n",
            "Also creating executable in /root/tmp/deepspeech-venv/bin/python\n",
            "Installing setuptools, pip, wheel...\n",
            "done.\n"
          ],
          "name": "stdout"
        }
      ]
    },
    {
      "cell_type": "markdown",
      "metadata": {
        "id": "XNlFnwZK3aXX",
        "colab_type": "text"
      },
      "source": [
        "Git clone **DeepSpeech** & install required libraries"
      ]
    },
    {
      "cell_type": "code",
      "metadata": {
        "id": "E9LZEptB3DC1",
        "colab_type": "code",
        "outputId": "bf85666c-f0b7-47de-8b45-6f8d16416801",
        "colab": {
          "base_uri": "https://localhost:8080/",
          "height": 191
        }
      },
      "source": [
        "!git lfs clone https://github.com/mozilla/deepspeech"
      ],
      "execution_count": 6,
      "outputs": [
        {
          "output_type": "stream",
          "text": [
            "WARNING: 'git lfs clone' is deprecated and will not be updated\n",
            "          with new flags from 'git clone'\n",
            "\n",
            "'git clone' has been updated in upstream Git to have comparable\n",
            "speeds to 'git lfs clone'.\n",
            "Cloning into 'deepspeech'...\n",
            "remote: Enumerating objects: 13711, done.\u001b[K\n",
            "remote: Total 13711 (delta 0), reused 0 (delta 0), pack-reused 13711\u001b[K\n",
            "Receiving objects: 100% (13711/13711), 45.97 MiB | 19.54 MiB/s, done.\n",
            "Resolving deltas: 100% (8960/8960), done.\n"
          ],
          "name": "stdout"
        }
      ]
    },
    {
      "cell_type": "code",
      "metadata": {
        "id": "yW9YI4Zy3R-M",
        "colab_type": "code",
        "outputId": "2f5967bd-636f-4b09-9dd2-fe7d0583e67c",
        "colab": {
          "base_uri": "https://localhost:8080/",
          "height": 1000
        }
      },
      "source": [
        "!pip3 install -r deepspeech/requirements.txt\n",
        "!cd deepspeech && pip3 install $(python3 util/taskcluster.py --decoder)"
      ],
      "execution_count": 7,
      "outputs": [
        {
          "output_type": "stream",
          "text": [
            "Collecting tensorflow==1.14.0 (from -r deepspeech/requirements.txt (line 2))\n",
            "\u001b[?25l  Downloading https://files.pythonhosted.org/packages/de/f0/96fb2e0412ae9692dbf400e5b04432885f677ad6241c088ccc5fe7724d69/tensorflow-1.14.0-cp36-cp36m-manylinux1_x86_64.whl (109.2MB)\n",
            "\u001b[K     |████████████████████████████████| 109.2MB 1.6MB/s \n",
            "\u001b[?25hCollecting numpy==1.15.4 (from -r deepspeech/requirements.txt (line 3))\n",
            "\u001b[?25l  Downloading https://files.pythonhosted.org/packages/ff/7f/9d804d2348471c67a7d8b5f84f9bc59fd1cefa148986f2b74552f8573555/numpy-1.15.4-cp36-cp36m-manylinux1_x86_64.whl (13.9MB)\n",
            "\u001b[K     |████████████████████████████████| 13.9MB 32.3MB/s \n",
            "\u001b[?25hRequirement already satisfied: progressbar2 in /usr/local/lib/python3.6/dist-packages (from -r deepspeech/requirements.txt (line 4)) (3.38.0)\n",
            "Requirement already satisfied: pandas in /usr/local/lib/python3.6/dist-packages (from -r deepspeech/requirements.txt (line 5)) (0.24.2)\n",
            "Requirement already satisfied: six in /usr/local/lib/python3.6/dist-packages (from -r deepspeech/requirements.txt (line 6)) (1.12.0)\n",
            "Collecting pyxdg (from -r deepspeech/requirements.txt (line 7))\n",
            "\u001b[?25l  Downloading https://files.pythonhosted.org/packages/39/03/12eb9062f43adb94e30f366743cb5c83fd15fef026500cd4de42c7c12280/pyxdg-0.26-py2.py3-none-any.whl (40kB)\n",
            "\u001b[K     |████████████████████████████████| 40kB 18.7MB/s \n",
            "\u001b[?25hCollecting attrdict (from -r deepspeech/requirements.txt (line 8))\n",
            "  Downloading https://files.pythonhosted.org/packages/ef/97/28fe7e68bc7adfce67d4339756e85e9fcf3c6fd7f0c0781695352b70472c/attrdict-2.0.1-py2.py3-none-any.whl\n",
            "Requirement already satisfied: absl-py in /usr/local/lib/python3.6/dist-packages (from -r deepspeech/requirements.txt (line 9)) (0.8.1)\n",
            "Requirement already satisfied: setuptools in /usr/local/lib/python3.6/dist-packages (from -r deepspeech/requirements.txt (line 12)) (41.2.0)\n",
            "Collecting sox (from -r deepspeech/requirements.txt (line 15))\n",
            "  Downloading https://files.pythonhosted.org/packages/60/a0/5bee540554af8376e0313e462629d95bf2f2bc3c8cb60697aa01254e6cf5/sox-1.3.7-py2.py3-none-any.whl\n",
            "Requirement already satisfied: bs4 in /usr/local/lib/python3.6/dist-packages (from -r deepspeech/requirements.txt (line 16)) (0.0.1)\n",
            "Requirement already satisfied: requests in /usr/local/lib/python3.6/dist-packages (from -r deepspeech/requirements.txt (line 17)) (2.21.0)\n",
            "Requirement already satisfied: librosa in /usr/local/lib/python3.6/dist-packages (from -r deepspeech/requirements.txt (line 18)) (0.6.3)\n",
            "Collecting soundfile (from -r deepspeech/requirements.txt (line 19))\n",
            "  Downloading https://files.pythonhosted.org/packages/68/64/1191352221e2ec90db7492b4bf0c04fd9d2508de67b3f39cbf093cd6bd86/SoundFile-0.10.2-py2.py3-none-any.whl\n",
            "Collecting paramiko>=2.1 (from -r deepspeech/requirements.txt (line 22))\n",
            "\u001b[?25l  Downloading https://files.pythonhosted.org/packages/4b/80/74dace9e48b0ef923633dfb5e48798f58a168e4734bca8ecfaf839ba051a/paramiko-2.6.0-py2.py3-none-any.whl (199kB)\n",
            "\u001b[K     |████████████████████████████████| 204kB 52.4MB/s \n",
            "\u001b[?25hRequirement already satisfied: scipy in /usr/local/lib/python3.6/dist-packages (from -r deepspeech/requirements.txt (line 23)) (1.3.1)\n",
            "Requirement already satisfied: matplotlib in /usr/local/lib/python3.6/dist-packages (from -r deepspeech/requirements.txt (line 24)) (3.0.3)\n",
            "Requirement already satisfied: grpcio>=1.8.6 in /usr/local/lib/python3.6/dist-packages (from tensorflow==1.14.0->-r deepspeech/requirements.txt (line 2)) (1.15.0)\n",
            "Requirement already satisfied: astor>=0.6.0 in /usr/local/lib/python3.6/dist-packages (from tensorflow==1.14.0->-r deepspeech/requirements.txt (line 2)) (0.8.0)\n",
            "Requirement already satisfied: wrapt>=1.11.1 in /usr/local/lib/python3.6/dist-packages (from tensorflow==1.14.0->-r deepspeech/requirements.txt (line 2)) (1.11.2)\n",
            "Collecting tensorflow-estimator<1.15.0rc0,>=1.14.0rc0 (from tensorflow==1.14.0->-r deepspeech/requirements.txt (line 2))\n",
            "\u001b[?25l  Downloading https://files.pythonhosted.org/packages/3c/d5/21860a5b11caf0678fbc8319341b0ae21a07156911132e0e71bffed0510d/tensorflow_estimator-1.14.0-py2.py3-none-any.whl (488kB)\n",
            "\u001b[K     |████████████████████████████████| 491kB 38.9MB/s \n",
            "\u001b[?25hRequirement already satisfied: keras-preprocessing>=1.0.5 in /usr/local/lib/python3.6/dist-packages (from tensorflow==1.14.0->-r deepspeech/requirements.txt (line 2)) (1.1.0)\n",
            "Requirement already satisfied: termcolor>=1.1.0 in /usr/local/lib/python3.6/dist-packages (from tensorflow==1.14.0->-r deepspeech/requirements.txt (line 2)) (1.1.0)\n",
            "Requirement already satisfied: wheel>=0.26 in /usr/local/lib/python3.6/dist-packages (from tensorflow==1.14.0->-r deepspeech/requirements.txt (line 2)) (0.33.6)\n",
            "Requirement already satisfied: keras-applications>=1.0.6 in /usr/local/lib/python3.6/dist-packages (from tensorflow==1.14.0->-r deepspeech/requirements.txt (line 2)) (1.0.8)\n",
            "Requirement already satisfied: gast>=0.2.0 in /usr/local/lib/python3.6/dist-packages (from tensorflow==1.14.0->-r deepspeech/requirements.txt (line 2)) (0.2.2)\n",
            "Requirement already satisfied: google-pasta>=0.1.6 in /usr/local/lib/python3.6/dist-packages (from tensorflow==1.14.0->-r deepspeech/requirements.txt (line 2)) (0.1.7)\n",
            "Collecting tensorboard<1.15.0,>=1.14.0 (from tensorflow==1.14.0->-r deepspeech/requirements.txt (line 2))\n",
            "\u001b[?25l  Downloading https://files.pythonhosted.org/packages/91/2d/2ed263449a078cd9c8a9ba50ebd50123adf1f8cfbea1492f9084169b89d9/tensorboard-1.14.0-py3-none-any.whl (3.1MB)\n",
            "\u001b[K     |████████████████████████████████| 3.2MB 36.0MB/s \n",
            "\u001b[?25hRequirement already satisfied: protobuf>=3.6.1 in /usr/local/lib/python3.6/dist-packages (from tensorflow==1.14.0->-r deepspeech/requirements.txt (line 2)) (3.10.0)\n",
            "Requirement already satisfied: python-utils>=2.3.0 in /usr/local/lib/python3.6/dist-packages (from progressbar2->-r deepspeech/requirements.txt (line 4)) (2.3.0)\n",
            "Requirement already satisfied: python-dateutil>=2.5.0 in /usr/local/lib/python3.6/dist-packages (from pandas->-r deepspeech/requirements.txt (line 5)) (2.5.3)\n",
            "Requirement already satisfied: pytz>=2011k in /usr/local/lib/python3.6/dist-packages (from pandas->-r deepspeech/requirements.txt (line 5)) (2018.9)\n",
            "Requirement already satisfied: beautifulsoup4 in /usr/local/lib/python3.6/dist-packages (from bs4->-r deepspeech/requirements.txt (line 16)) (4.6.3)\n",
            "Requirement already satisfied: idna<2.9,>=2.5 in /usr/local/lib/python3.6/dist-packages (from requests->-r deepspeech/requirements.txt (line 17)) (2.8)\n",
            "Requirement already satisfied: certifi>=2017.4.17 in /usr/local/lib/python3.6/dist-packages (from requests->-r deepspeech/requirements.txt (line 17)) (2019.9.11)\n",
            "Requirement already satisfied: urllib3<1.25,>=1.21.1 in /usr/local/lib/python3.6/dist-packages (from requests->-r deepspeech/requirements.txt (line 17)) (1.24.3)\n",
            "Requirement already satisfied: chardet<3.1.0,>=3.0.2 in /usr/local/lib/python3.6/dist-packages (from requests->-r deepspeech/requirements.txt (line 17)) (3.0.4)\n",
            "Requirement already satisfied: scikit-learn!=0.19.0,>=0.14.0 in /usr/local/lib/python3.6/dist-packages (from librosa->-r deepspeech/requirements.txt (line 18)) (0.21.3)\n",
            "Requirement already satisfied: numba>=0.38.0 in /usr/local/lib/python3.6/dist-packages (from librosa->-r deepspeech/requirements.txt (line 18)) (0.40.1)\n",
            "Requirement already satisfied: resampy>=0.2.0 in /usr/local/lib/python3.6/dist-packages (from librosa->-r deepspeech/requirements.txt (line 18)) (0.2.2)\n",
            "Requirement already satisfied: decorator>=3.0.0 in /usr/local/lib/python3.6/dist-packages (from librosa->-r deepspeech/requirements.txt (line 18)) (4.4.0)\n",
            "Requirement already satisfied: joblib>=0.12 in /usr/local/lib/python3.6/dist-packages (from librosa->-r deepspeech/requirements.txt (line 18)) (0.14.0)\n",
            "Requirement already satisfied: audioread>=2.0.0 in /usr/local/lib/python3.6/dist-packages (from librosa->-r deepspeech/requirements.txt (line 18)) (2.1.8)\n",
            "Requirement already satisfied: cffi>=1.0 in /usr/local/lib/python3.6/dist-packages (from soundfile->-r deepspeech/requirements.txt (line 19)) (1.13.0)\n",
            "Collecting bcrypt>=3.1.3 (from paramiko>=2.1->-r deepspeech/requirements.txt (line 22))\n",
            "\u001b[?25l  Downloading https://files.pythonhosted.org/packages/8b/1d/82826443777dd4a624e38a08957b975e75df859b381ae302cfd7a30783ed/bcrypt-3.1.7-cp34-abi3-manylinux1_x86_64.whl (56kB)\n",
            "\u001b[K     |████████████████████████████████| 61kB 24.6MB/s \n",
            "\u001b[?25hCollecting pynacl>=1.0.1 (from paramiko>=2.1->-r deepspeech/requirements.txt (line 22))\n",
            "\u001b[?25l  Downloading https://files.pythonhosted.org/packages/27/15/2cd0a203f318c2240b42cd9dd13c931ddd61067809fee3479f44f086103e/PyNaCl-1.3.0-cp34-abi3-manylinux1_x86_64.whl (759kB)\n",
            "\u001b[K     |████████████████████████████████| 768kB 43.4MB/s \n",
            "\u001b[?25hCollecting cryptography>=2.5 (from paramiko>=2.1->-r deepspeech/requirements.txt (line 22))\n",
            "\u001b[?25l  Downloading https://files.pythonhosted.org/packages/ca/9a/7cece52c46546e214e10811b36b2da52ce1ea7fa203203a629b8dfadad53/cryptography-2.8-cp34-abi3-manylinux2010_x86_64.whl (2.3MB)\n",
            "\u001b[K     |████████████████████████████████| 2.3MB 33.7MB/s \n",
            "\u001b[?25hRequirement already satisfied: kiwisolver>=1.0.1 in /usr/local/lib/python3.6/dist-packages (from matplotlib->-r deepspeech/requirements.txt (line 24)) (1.1.0)\n",
            "Requirement already satisfied: pyparsing!=2.0.4,!=2.1.2,!=2.1.6,>=2.0.1 in /usr/local/lib/python3.6/dist-packages (from matplotlib->-r deepspeech/requirements.txt (line 24)) (2.4.2)\n",
            "Requirement already satisfied: cycler>=0.10 in /usr/local/lib/python3.6/dist-packages (from matplotlib->-r deepspeech/requirements.txt (line 24)) (0.10.0)\n",
            "Requirement already satisfied: h5py in /usr/local/lib/python3.6/dist-packages (from keras-applications>=1.0.6->tensorflow==1.14.0->-r deepspeech/requirements.txt (line 2)) (2.8.0)\n",
            "Requirement already satisfied: werkzeug>=0.11.15 in /usr/local/lib/python3.6/dist-packages (from tensorboard<1.15.0,>=1.14.0->tensorflow==1.14.0->-r deepspeech/requirements.txt (line 2)) (0.16.0)\n",
            "Requirement already satisfied: markdown>=2.6.8 in /usr/local/lib/python3.6/dist-packages (from tensorboard<1.15.0,>=1.14.0->tensorflow==1.14.0->-r deepspeech/requirements.txt (line 2)) (3.1.1)\n",
            "Requirement already satisfied: llvmlite>=0.25.0dev0 in /usr/local/lib/python3.6/dist-packages (from numba>=0.38.0->librosa->-r deepspeech/requirements.txt (line 18)) (0.30.0)\n",
            "Requirement already satisfied: pycparser in /usr/local/lib/python3.6/dist-packages (from cffi>=1.0->soundfile->-r deepspeech/requirements.txt (line 19)) (2.19)\n",
            "\u001b[31mERROR: datascience 0.10.6 has requirement folium==0.2.1, but you'll have folium 0.8.3 which is incompatible.\u001b[0m\n",
            "\u001b[31mERROR: albumentations 0.1.12 has requirement imgaug<0.2.7,>=0.2.5, but you'll have imgaug 0.2.9 which is incompatible.\u001b[0m\n",
            "Installing collected packages: tensorflow-estimator, numpy, tensorboard, tensorflow, pyxdg, attrdict, sox, soundfile, bcrypt, pynacl, cryptography, paramiko\n",
            "  Found existing installation: tensorflow-estimator 1.15.1\n",
            "    Uninstalling tensorflow-estimator-1.15.1:\n",
            "      Successfully uninstalled tensorflow-estimator-1.15.1\n",
            "  Found existing installation: numpy 1.16.5\n",
            "    Uninstalling numpy-1.16.5:\n",
            "      Successfully uninstalled numpy-1.16.5\n",
            "  Found existing installation: tensorboard 1.15.0\n",
            "    Uninstalling tensorboard-1.15.0:\n",
            "      Successfully uninstalled tensorboard-1.15.0\n",
            "  Found existing installation: tensorflow 1.15.0\n",
            "    Uninstalling tensorflow-1.15.0:\n",
            "      Successfully uninstalled tensorflow-1.15.0\n",
            "Successfully installed attrdict-2.0.1 bcrypt-3.1.7 cryptography-2.8 numpy-1.15.4 paramiko-2.6.0 pynacl-1.3.0 pyxdg-0.26 soundfile-0.10.2 sox-1.3.7 tensorboard-1.14.0 tensorflow-1.14.0 tensorflow-estimator-1.14.0\n"
          ],
          "name": "stdout"
        },
        {
          "output_type": "display_data",
          "data": {
            "application/vnd.colab-display-data+json": {
              "pip_warning": {
                "packages": [
                  "numpy"
                ]
              }
            }
          },
          "metadata": {
            "tags": []
          }
        },
        {
          "output_type": "stream",
          "text": [
            "Collecting ds-ctcdecoder==0.6.0a10 from https://index.taskcluster.net/v1/task/project.deepspeech.deepspeech.native_client.v0.6.0-alpha.10.cpu-ctc/artifacts/public/ds_ctcdecoder-0.6.0a10-cp36-cp36m-manylinux1_x86_64.whl\n",
            "\u001b[?25l  Downloading https://index.taskcluster.net/v1/task/project.deepspeech.deepspeech.native_client.v0.6.0-alpha.10.cpu-ctc/artifacts/public/ds_ctcdecoder-0.6.0a10-cp36-cp36m-manylinux1_x86_64.whl (1.7MB)\n",
            "\u001b[K     |████████████████████████████████| 1.7MB 7.2MB/s \n",
            "\u001b[?25hRequirement already satisfied: numpy>=1.7.0 in /usr/local/lib/python3.6/dist-packages (from ds-ctcdecoder==0.6.0a10) (1.15.4)\n",
            "Installing collected packages: ds-ctcdecoder\n",
            "Successfully installed ds-ctcdecoder-0.6.0a10\n"
          ],
          "name": "stdout"
        }
      ]
    },
    {
      "cell_type": "markdown",
      "metadata": {
        "id": "4FiRQllT6CVW",
        "colab_type": "text"
      },
      "source": [
        "Install **Tensorflow with GPU** support (if Nvidia GPU 8gb+ vram)"
      ]
    },
    {
      "cell_type": "code",
      "metadata": {
        "id": "kOIbwy7b3W4H",
        "colab_type": "code",
        "outputId": "dbca8a04-8c8a-42f1-87f7-afe638485469",
        "colab": {
          "base_uri": "https://localhost:8080/",
          "height": 489
        }
      },
      "source": [
        "!pip3 uninstall -y tensorflow\n",
        "!pip3 install 'tensorflow-gpu==1.14.0'"
      ],
      "execution_count": 8,
      "outputs": [
        {
          "output_type": "stream",
          "text": [
            "Uninstalling tensorflow-1.14.0:\n",
            "  Successfully uninstalled tensorflow-1.14.0\n",
            "Collecting tensorflow-gpu==1.14.0\n",
            "\u001b[?25l  Downloading https://files.pythonhosted.org/packages/76/04/43153bfdfcf6c9a4c38ecdb971ca9a75b9a791bb69a764d652c359aca504/tensorflow_gpu-1.14.0-cp36-cp36m-manylinux1_x86_64.whl (377.0MB)\n",
            "\u001b[K     |████████████████████████████████| 377.0MB 87kB/s \n",
            "\u001b[?25hRequirement already satisfied: google-pasta>=0.1.6 in /usr/local/lib/python3.6/dist-packages (from tensorflow-gpu==1.14.0) (0.1.7)\n",
            "Requirement already satisfied: keras-applications>=1.0.6 in /usr/local/lib/python3.6/dist-packages (from tensorflow-gpu==1.14.0) (1.0.8)\n",
            "Requirement already satisfied: tensorflow-estimator<1.15.0rc0,>=1.14.0rc0 in /usr/local/lib/python3.6/dist-packages (from tensorflow-gpu==1.14.0) (1.14.0)\n",
            "Requirement already satisfied: wheel>=0.26 in /usr/local/lib/python3.6/dist-packages (from tensorflow-gpu==1.14.0) (0.33.6)\n",
            "Requirement already satisfied: gast>=0.2.0 in /usr/local/lib/python3.6/dist-packages (from tensorflow-gpu==1.14.0) (0.2.2)\n",
            "Requirement already satisfied: six>=1.10.0 in /usr/local/lib/python3.6/dist-packages (from tensorflow-gpu==1.14.0) (1.12.0)\n",
            "Requirement already satisfied: tensorboard<1.15.0,>=1.14.0 in /usr/local/lib/python3.6/dist-packages (from tensorflow-gpu==1.14.0) (1.14.0)\n",
            "Requirement already satisfied: wrapt>=1.11.1 in /usr/local/lib/python3.6/dist-packages (from tensorflow-gpu==1.14.0) (1.11.2)\n",
            "Requirement already satisfied: protobuf>=3.6.1 in /usr/local/lib/python3.6/dist-packages (from tensorflow-gpu==1.14.0) (3.10.0)\n",
            "Requirement already satisfied: numpy<2.0,>=1.14.5 in /usr/local/lib/python3.6/dist-packages (from tensorflow-gpu==1.14.0) (1.15.4)\n",
            "Requirement already satisfied: absl-py>=0.7.0 in /usr/local/lib/python3.6/dist-packages (from tensorflow-gpu==1.14.0) (0.8.1)\n",
            "Requirement already satisfied: grpcio>=1.8.6 in /usr/local/lib/python3.6/dist-packages (from tensorflow-gpu==1.14.0) (1.15.0)\n",
            "Requirement already satisfied: termcolor>=1.1.0 in /usr/local/lib/python3.6/dist-packages (from tensorflow-gpu==1.14.0) (1.1.0)\n",
            "Requirement already satisfied: keras-preprocessing>=1.0.5 in /usr/local/lib/python3.6/dist-packages (from tensorflow-gpu==1.14.0) (1.1.0)\n",
            "Requirement already satisfied: astor>=0.6.0 in /usr/local/lib/python3.6/dist-packages (from tensorflow-gpu==1.14.0) (0.8.0)\n",
            "Requirement already satisfied: h5py in /usr/local/lib/python3.6/dist-packages (from keras-applications>=1.0.6->tensorflow-gpu==1.14.0) (2.8.0)\n",
            "Requirement already satisfied: setuptools>=41.0.0 in /usr/local/lib/python3.6/dist-packages (from tensorboard<1.15.0,>=1.14.0->tensorflow-gpu==1.14.0) (41.2.0)\n",
            "Requirement already satisfied: markdown>=2.6.8 in /usr/local/lib/python3.6/dist-packages (from tensorboard<1.15.0,>=1.14.0->tensorflow-gpu==1.14.0) (3.1.1)\n",
            "Requirement already satisfied: werkzeug>=0.11.15 in /usr/local/lib/python3.6/dist-packages (from tensorboard<1.15.0,>=1.14.0->tensorflow-gpu==1.14.0) (0.16.0)\n",
            "Installing collected packages: tensorflow-gpu\n",
            "Successfully installed tensorflow-gpu-1.14.0\n"
          ],
          "name": "stdout"
        }
      ]
    },
    {
      "cell_type": "markdown",
      "metadata": {
        "id": "N8a892MZ2zPi",
        "colab_type": "text"
      },
      "source": [
        "# Part 2 : Data"
      ]
    },
    {
      "cell_type": "code",
      "metadata": {
        "id": "GjJ2e2qb76Ba",
        "colab_type": "code",
        "outputId": "78d214b0-f2c9-4643-bd4c-329a0e603e1d",
        "colab": {
          "base_uri": "https://localhost:8080/",
          "height": 34
        }
      },
      "source": [
        "!mkdir deepspeech/data/CV && mkdir deepspeech/data/CV/mn\n",
        "%cd deepspeech/data/CV/mn/"
      ],
      "execution_count": 9,
      "outputs": [
        {
          "output_type": "stream",
          "text": [
            "/deepspeech/data/CV/mn\n"
          ],
          "name": "stdout"
        }
      ]
    },
    {
      "cell_type": "code",
      "metadata": {
        "id": "Abf3HRWT79xx",
        "colab_type": "code",
        "outputId": "3022c382-6978-42b3-bd6a-0b2f9977872a",
        "colab": {
          "base_uri": "https://localhost:8080/",
          "height": 228
        }
      },
      "source": [
        "!wget https://voice-prod-bundler-ee1969a6ce8178826482b88e843c335139bd3fb4.s3.amazonaws.com/cv-corpus-3/mn.tar.gz\n",
        "!tar -xf mn.tar.gz"
      ],
      "execution_count": 10,
      "outputs": [
        {
          "output_type": "stream",
          "text": [
            "--2019-10-22 08:09:24--  https://voice-prod-bundler-ee1969a6ce8178826482b88e843c335139bd3fb4.s3.amazonaws.com/cv-corpus-3/mn.tar.gz\n",
            "Resolving voice-prod-bundler-ee1969a6ce8178826482b88e843c335139bd3fb4.s3.amazonaws.com (voice-prod-bundler-ee1969a6ce8178826482b88e843c335139bd3fb4.s3.amazonaws.com)... 52.218.128.134\n",
            "Connecting to voice-prod-bundler-ee1969a6ce8178826482b88e843c335139bd3fb4.s3.amazonaws.com (voice-prod-bundler-ee1969a6ce8178826482b88e843c335139bd3fb4.s3.amazonaws.com)|52.218.128.134|:443... connected.\n",
            "HTTP request sent, awaiting response... 200 OK\n",
            "Length: 269325609 (257M) [application/octet-stream]\n",
            "Saving to: ‘mn.tar.gz’\n",
            "\n",
            "mn.tar.gz           100%[===================>] 256.85M  19.7MB/s    in 14s     \n",
            "\n",
            "2019-10-22 08:09:40 (18.0 MB/s) - ‘mn.tar.gz’ saved [269325609/269325609]\n",
            "\n"
          ],
          "name": "stdout"
        }
      ]
    },
    {
      "cell_type": "code",
      "metadata": {
        "id": "1ydLS8OW8AfR",
        "colab_type": "code",
        "outputId": "b0c6d063-547c-4daf-8c10-1d7fea86a60d",
        "colab": {
          "base_uri": "https://localhost:8080/",
          "height": 503
        }
      },
      "source": [
        "%cd ../../.. \n",
        "!bin/import_cv2.py data/CV/mn/"
      ],
      "execution_count": 11,
      "outputs": [
        {
          "output_type": "stream",
          "text": [
            "/deepspeech\n",
            "Loading TSV file:  /deepspeech/data/CV/mn/train.tsv\n",
            "Saving new DeepSpeech-formatted CSV file to:  data/CV/mn/clips/train.csv\n",
            "Importing mp3 files...\n",
            "Progress |##################################################### |  98% completedWriting CSV file for DeepSpeech.py as:  data/CV/mn/clips/train.csv\n",
            "Progress |######################################################| 100% completed\n",
            "Imported 2047 samples.\n",
            "Skipped 2 samples that were longer than 10 seconds.\n",
            "Final amount of imported audio: 2:53:57.\n",
            "Loading TSV file:  /deepspeech/data/CV/mn/test.tsv\n",
            "Saving new DeepSpeech-formatted CSV file to:  data/CV/mn/clips/test.csv\n",
            "Importing mp3 files...\n",
            "Progress |######################################################| 100% completedWriting CSV file for DeepSpeech.py as:  data/CV/mn/clips/test.csv\n",
            "Progress |######################################################| 100% completed\n",
            "Imported 1604 samples.\n",
            "Skipped 6 samples that were longer than 10 seconds.\n",
            "Final amount of imported audio: 2:34:29.\n",
            "Loading TSV file:  /deepspeech/data/CV/mn/dev.tsv\n",
            "Saving new DeepSpeech-formatted CSV file to:  data/CV/mn/clips/dev.csv\n",
            "Importing mp3 files...\n",
            "Progress |######################################################| 100% completedWriting CSV file for DeepSpeech.py as:  data/CV/mn/clips/dev.csv\n",
            "Progress |######################################################| 100% completed\n",
            "Imported 1405 samples.\n",
            "Skipped 2 samples that were longer than 10 seconds.\n",
            "Final amount of imported audio: 2:07:51.\n",
            "Progress |######################################################| 100% completed\n",
            "Progress |######################################################| 100% completed\n",
            "Progress |######################################################| 100% completed\n"
          ],
          "name": "stdout"
        }
      ]
    },
    {
      "cell_type": "markdown",
      "metadata": {
        "id": "iF4hysIsQr3h",
        "colab_type": "text"
      },
      "source": [
        "Mount **Google Drive** and import alphabet.txt & train.csv, dev.csv, test.csv  \n",
        "    (if you dont want to fix path, alphabet etc... manually)"
      ]
    },
    {
      "cell_type": "code",
      "metadata": {
        "id": "KLfh3euJQp7n",
        "colab_type": "code",
        "outputId": "90af3f2f-099a-46c4-d1e5-e621ae9ebfd0",
        "colab": {
          "base_uri": "https://localhost:8080/",
          "height": 124
        }
      },
      "source": [
        "from google.colab import drive\n",
        "drive.mount('/content/drive', force_remount=True)"
      ],
      "execution_count": 12,
      "outputs": [
        {
          "output_type": "stream",
          "text": [
            "Go to this URL in a browser: https://accounts.google.com/o/oauth2/auth?client_id=947318989803-6bn6qk8qdgf4n4g3pfee6491hc0brc4i.apps.googleusercontent.com&redirect_uri=urn%3Aietf%3Awg%3Aoauth%3A2.0%3Aoob&scope=email%20https%3A%2F%2Fwww.googleapis.com%2Fauth%2Fdocs.test%20https%3A%2F%2Fwww.googleapis.com%2Fauth%2Fdrive%20https%3A%2F%2Fwww.googleapis.com%2Fauth%2Fdrive.photos.readonly%20https%3A%2F%2Fwww.googleapis.com%2Fauth%2Fpeopleapi.readonly&response_type=code\n",
            "\n",
            "Enter your authorization code:\n",
            "··········\n",
            "Mounted at /content/drive\n"
          ],
          "name": "stdout"
        }
      ]
    },
    {
      "cell_type": "code",
      "metadata": {
        "id": "imEgpyGLQ20P",
        "colab_type": "code",
        "colab": {}
      },
      "source": [
        "!cp '/content/drive/My Drive/mn/alphabet.txt' /content/deepspeech/data/alphabet.txt\n",
        "!cp '/content/drive/My Drive/mn/train.csv' /content/deepspeech/data/CV/mn/clips/train.csv\n",
        "!cp '/content/drive/My Drive/mn/dev.csv' /content/deepspeech/data/CV/mn/clips/dev.csv\n",
        "!cp '/content/drive/My Drive/mn/test.csv' /content/deepspeech/data/CV/mn/clips/test.csv"
      ],
      "execution_count": 0,
      "outputs": []
    },
    {
      "cell_type": "code",
      "metadata": {
        "id": "KpDkZTW28dkg",
        "colab_type": "code",
        "colab": {}
      },
      "source": [
        "# STT #3 - Create Language Model.ipynb\n",
        "#https://colab.research.google.com/drive/10wFbazI8m7XFWhmo0S3fNpDWJs5OkRER\n",
        "!cp '/content/drive/My Drive/mn/words.arpa' /content/deepspeech/data/lm/words.arpa\n",
        "!cp '/content/drive/My Drive/mn/lm.binary' /content/deepspeech/data/lm/lm.binary"
      ],
      "execution_count": 0,
      "outputs": []
    },
    {
      "cell_type": "code",
      "metadata": {
        "id": "9ciAoUQDBmpf",
        "colab_type": "code",
        "outputId": "a81d98de-82bd-4215-bbac-aa3710b0fb9e",
        "colab": {
          "base_uri": "https://localhost:8080/",
          "height": 173
        }
      },
      "source": [
        "!python util/taskcluster.py --arch gpu --target native_client"
      ],
      "execution_count": 23,
      "outputs": [
        {
          "output_type": "stream",
          "text": [
            "Downloading https://index.taskcluster.net/v1/task/project.deepspeech.deepspeech.native_client.v0.6.0-alpha.10.gpu/artifacts/public/native_client.tar.xz ...\n",
            "Downloading: 100%\n",
            "\n",
            "generate_trie\n",
            "libdeepspeech.so\n",
            "LICENSE\n",
            "deepspeech\n",
            "deepspeech.h\n",
            "README.mozilla\n"
          ],
          "name": "stdout"
        }
      ]
    },
    {
      "cell_type": "code",
      "metadata": {
        "id": "McS1zk4REpZM",
        "colab_type": "code",
        "colab": {}
      },
      "source": [
        "!native_client/generate_trie data/alphabet.txt data/lm/lm.binary data/lm/trie"
      ],
      "execution_count": 0,
      "outputs": []
    },
    {
      "cell_type": "markdown",
      "metadata": {
        "id": "RPqD-2dM8JUD",
        "colab_type": "text"
      },
      "source": [
        "# Part 3 : Train"
      ]
    },
    {
      "cell_type": "code",
      "metadata": {
        "id": "LKw3tEkRny1f",
        "colab_type": "code",
        "colab": {}
      },
      "source": [
        "!./DeepSpeech.py \\\n",
        "--train_files 'data/CV/mn/clips/train.csv' \\\n",
        "--dev_files 'data/CV/mn/clips/dev.csv' \\\n",
        "--test_files 'data/CV/mn/clips/test.csv' \\\n",
        "--epochs 1 \\\n",
        "--export_dir 'data/CV/mn/'"
      ],
      "execution_count": 0,
      "outputs": []
    },
    {
      "cell_type": "markdown",
      "metadata": {
        "id": "U0p2qA9o8kdO",
        "colab_type": "text"
      },
      "source": [
        "# Part 4 : Test"
      ]
    },
    {
      "cell_type": "code",
      "metadata": {
        "id": "QJJur2NhA1Bh",
        "colab_type": "code",
        "colab": {}
      },
      "source": [
        "!cp '/content/drive/My Drive/mn/test1.wav' /content/deepspeech/data/CV/mn/test1.wav"
      ],
      "execution_count": 0,
      "outputs": []
    },
    {
      "cell_type": "code",
      "metadata": {
        "id": "pV1eev4N7aKw",
        "colab_type": "code",
        "colab": {}
      },
      "source": [
        "# Convert the audio to a 16KHz sampled wav that as DeepSpeech requires\n",
        "!ffmpeg -i data/CV/mn/test1.wav -acodec pcm_s16le -ac 1 -ar 16000 data/CV/mn/test1.wav"
      ],
      "execution_count": 0,
      "outputs": []
    },
    {
      "cell_type": "code",
      "metadata": {
        "id": "D7v18-mqmGkF",
        "colab_type": "code",
        "colab": {}
      },
      "source": [
        "!./DeepSpeech.py '/content/deepspeech/data/CV/mn/output_graph.pb' '/content/deepspeech/data/alphabet.txt' '/content/deepspeech/data/lm/lm.binary' '/content/deepspeech/data/lm/trie data/CV/mn/test1.wav'"
      ],
      "execution_count": 0,
      "outputs": []
    },
    {
      "cell_type": "markdown",
      "metadata": {
        "id": "jQacrTV1IBGj",
        "colab_type": "text"
      },
      "source": [
        "# Useful commands"
      ]
    },
    {
      "cell_type": "code",
      "metadata": {
        "id": "kjxkc9HIIEgh",
        "colab_type": "code",
        "colab": {}
      },
      "source": [
        "# Check characters in CSV files\n",
        "#!python3 util/check_characters.py --csv-files 'data/CV/mn/clips/train.csv','data/CV/mn/clips/dev.csv','data/CV/mn/clips/test.csv'\n",
        "\n",
        "# Mount Google Drive\n",
        "#from google.colab import drive\n",
        "#drive.mount('/content/drive')\n",
        "\n",
        "# Download file\n",
        "#from google.colab import files\n",
        "#files.download('/content/deepspeech/data/CV/mn/output_graph.pb')\n",
        "\n",
        "# Read CSV using pandas\n",
        "#import pandas as pd\n",
        "#train_data = pd.read_csv('data/CV/mn/clips/train.csv')\n",
        "#train_data.head()\n",
        "\n",
        "# Replace string, export to CSV file, show first 10 rows\n",
        "#df['wav_filename'] = df['wav_filename'].str.replace('data/CV/mn/clips/', '')\n",
        "#df.to_csv('test.csv')\n",
        "#df[:10]\n",
        "\n",
        "# Kill runtime instance (if you need to restart from the beginning)\n",
        "#!kill -9 -1\n",
        "\n",
        "# Download YouTube video and extract .wav\n",
        "#!pip install -q youtube-dl\n",
        "#!youtube-dl --extract-audio --audio-format wav --output \"test.%(ext)s\" https://www.youtube.com/watch\\?v\\={YOUTUBE_ID}"
      ],
      "execution_count": 0,
      "outputs": []
    }
  ]
}